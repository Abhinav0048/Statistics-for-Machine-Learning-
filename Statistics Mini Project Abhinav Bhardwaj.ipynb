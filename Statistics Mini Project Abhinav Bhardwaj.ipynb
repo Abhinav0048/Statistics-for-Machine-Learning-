{
 "cells": [
  {
   "cell_type": "markdown",
   "id": "9ca198a2",
   "metadata": {},
   "source": [
    "# Statistics Mini Project"
   ]
  },
  {
   "cell_type": "markdown",
   "id": "0dea9c0e",
   "metadata": {},
   "source": [
    "# Fifa Dataset::"
   ]
  },
  {
   "cell_type": "code",
   "execution_count": 136,
   "id": "38790867",
   "metadata": {},
   "outputs": [],
   "source": [
    "import numpy as np \n",
    "import pandas as pd\n",
    "import scipy \n",
    "import matplotlib.pyplot as plt\n",
    "from scipy import stats\n",
    "import seaborn as sns\n",
    "import random\n",
    "import warnings\n",
    "warnings.filterwarnings('ignore')"
   ]
  },
  {
   "cell_type": "code",
   "execution_count": 137,
   "id": "50c582bf",
   "metadata": {},
   "outputs": [],
   "source": [
    "fifa=pd.read_csv('fifa_stats.csv')"
   ]
  },
  {
   "cell_type": "code",
   "execution_count": 138,
   "id": "8f555f5e",
   "metadata": {},
   "outputs": [
    {
     "data": {
      "text/html": [
       "<div>\n",
       "<style scoped>\n",
       "    .dataframe tbody tr th:only-of-type {\n",
       "        vertical-align: middle;\n",
       "    }\n",
       "\n",
       "    .dataframe tbody tr th {\n",
       "        vertical-align: top;\n",
       "    }\n",
       "\n",
       "    .dataframe thead th {\n",
       "        text-align: right;\n",
       "    }\n",
       "</style>\n",
       "<table border=\"1\" class=\"dataframe\">\n",
       "  <thead>\n",
       "    <tr style=\"text-align: right;\">\n",
       "      <th></th>\n",
       "      <th>Name</th>\n",
       "      <th>Age</th>\n",
       "      <th>Nationality</th>\n",
       "      <th>Overall_rating</th>\n",
       "      <th>Potential</th>\n",
       "      <th>Club</th>\n",
       "      <th>Preferred Foot</th>\n",
       "      <th>International Reputation</th>\n",
       "      <th>Weak Foot</th>\n",
       "      <th>Skill Moves</th>\n",
       "      <th>Work Rate</th>\n",
       "      <th>Position</th>\n",
       "      <th>Jersey Number</th>\n",
       "      <th>Height</th>\n",
       "      <th>Weight</th>\n",
       "    </tr>\n",
       "  </thead>\n",
       "  <tbody>\n",
       "    <tr>\n",
       "      <th>0</th>\n",
       "      <td>L. Messi</td>\n",
       "      <td>31</td>\n",
       "      <td>Argentina</td>\n",
       "      <td>94</td>\n",
       "      <td>94</td>\n",
       "      <td>FC Barcelona</td>\n",
       "      <td>Left</td>\n",
       "      <td>5</td>\n",
       "      <td>4</td>\n",
       "      <td>4</td>\n",
       "      <td>Medium/ Medium</td>\n",
       "      <td>RF</td>\n",
       "      <td>10</td>\n",
       "      <td>5.583333</td>\n",
       "      <td>159</td>\n",
       "    </tr>\n",
       "    <tr>\n",
       "      <th>1</th>\n",
       "      <td>Cristiano Ronaldo</td>\n",
       "      <td>33</td>\n",
       "      <td>Portugal</td>\n",
       "      <td>94</td>\n",
       "      <td>94</td>\n",
       "      <td>Juventus</td>\n",
       "      <td>Right</td>\n",
       "      <td>5</td>\n",
       "      <td>4</td>\n",
       "      <td>5</td>\n",
       "      <td>High/ Low</td>\n",
       "      <td>ST</td>\n",
       "      <td>7</td>\n",
       "      <td>6.166667</td>\n",
       "      <td>183</td>\n",
       "    </tr>\n",
       "    <tr>\n",
       "      <th>2</th>\n",
       "      <td>Neymar Jr</td>\n",
       "      <td>26</td>\n",
       "      <td>Brazil</td>\n",
       "      <td>92</td>\n",
       "      <td>93</td>\n",
       "      <td>Paris Saint-Germain</td>\n",
       "      <td>Right</td>\n",
       "      <td>5</td>\n",
       "      <td>5</td>\n",
       "      <td>5</td>\n",
       "      <td>High/ Medium</td>\n",
       "      <td>LW</td>\n",
       "      <td>10</td>\n",
       "      <td>5.750000</td>\n",
       "      <td>150</td>\n",
       "    </tr>\n",
       "    <tr>\n",
       "      <th>3</th>\n",
       "      <td>De Gea</td>\n",
       "      <td>27</td>\n",
       "      <td>Spain</td>\n",
       "      <td>91</td>\n",
       "      <td>93</td>\n",
       "      <td>Manchester United</td>\n",
       "      <td>Right</td>\n",
       "      <td>4</td>\n",
       "      <td>3</td>\n",
       "      <td>1</td>\n",
       "      <td>Medium/ Medium</td>\n",
       "      <td>GK</td>\n",
       "      <td>1</td>\n",
       "      <td>6.333333</td>\n",
       "      <td>168</td>\n",
       "    </tr>\n",
       "    <tr>\n",
       "      <th>4</th>\n",
       "      <td>K. De Bruyne</td>\n",
       "      <td>27</td>\n",
       "      <td>Belgium</td>\n",
       "      <td>91</td>\n",
       "      <td>92</td>\n",
       "      <td>Manchester City</td>\n",
       "      <td>Right</td>\n",
       "      <td>4</td>\n",
       "      <td>5</td>\n",
       "      <td>4</td>\n",
       "      <td>High/ High</td>\n",
       "      <td>RCM</td>\n",
       "      <td>7</td>\n",
       "      <td>5.083333</td>\n",
       "      <td>154</td>\n",
       "    </tr>\n",
       "    <tr>\n",
       "      <th>...</th>\n",
       "      <td>...</td>\n",
       "      <td>...</td>\n",
       "      <td>...</td>\n",
       "      <td>...</td>\n",
       "      <td>...</td>\n",
       "      <td>...</td>\n",
       "      <td>...</td>\n",
       "      <td>...</td>\n",
       "      <td>...</td>\n",
       "      <td>...</td>\n",
       "      <td>...</td>\n",
       "      <td>...</td>\n",
       "      <td>...</td>\n",
       "      <td>...</td>\n",
       "      <td>...</td>\n",
       "    </tr>\n",
       "    <tr>\n",
       "      <th>1995</th>\n",
       "      <td>R. BorrÃ©</td>\n",
       "      <td>22</td>\n",
       "      <td>Colombia</td>\n",
       "      <td>75</td>\n",
       "      <td>82</td>\n",
       "      <td>River Plate</td>\n",
       "      <td>Right</td>\n",
       "      <td>1</td>\n",
       "      <td>3</td>\n",
       "      <td>4</td>\n",
       "      <td>High/ Medium</td>\n",
       "      <td>RS</td>\n",
       "      <td>19</td>\n",
       "      <td>5.750000</td>\n",
       "      <td>157</td>\n",
       "    </tr>\n",
       "    <tr>\n",
       "      <th>1996</th>\n",
       "      <td>E. ZukanoviÄ‡</td>\n",
       "      <td>31</td>\n",
       "      <td>Bosnia Herzegovina</td>\n",
       "      <td>75</td>\n",
       "      <td>75</td>\n",
       "      <td>Genoa</td>\n",
       "      <td>Left</td>\n",
       "      <td>2</td>\n",
       "      <td>3</td>\n",
       "      <td>2</td>\n",
       "      <td>Low/ High</td>\n",
       "      <td>CB</td>\n",
       "      <td>87</td>\n",
       "      <td>6.250000</td>\n",
       "      <td>187</td>\n",
       "    </tr>\n",
       "    <tr>\n",
       "      <th>1997</th>\n",
       "      <td>A. Elis</td>\n",
       "      <td>22</td>\n",
       "      <td>Honduras</td>\n",
       "      <td>75</td>\n",
       "      <td>82</td>\n",
       "      <td>Houston Dynamo</td>\n",
       "      <td>Right</td>\n",
       "      <td>1</td>\n",
       "      <td>4</td>\n",
       "      <td>4</td>\n",
       "      <td>High/ Medium</td>\n",
       "      <td>RM</td>\n",
       "      <td>17</td>\n",
       "      <td>5.083333</td>\n",
       "      <td>170</td>\n",
       "    </tr>\n",
       "    <tr>\n",
       "      <th>1998</th>\n",
       "      <td>M. FernÃ¡ndez</td>\n",
       "      <td>32</td>\n",
       "      <td>Chile</td>\n",
       "      <td>75</td>\n",
       "      <td>75</td>\n",
       "      <td>Club Necaxa</td>\n",
       "      <td>Right</td>\n",
       "      <td>2</td>\n",
       "      <td>4</td>\n",
       "      <td>5</td>\n",
       "      <td>Medium/ Medium</td>\n",
       "      <td>LDM</td>\n",
       "      <td>14</td>\n",
       "      <td>5.083333</td>\n",
       "      <td>159</td>\n",
       "    </tr>\n",
       "    <tr>\n",
       "      <th>1999</th>\n",
       "      <td>D. RodrÃ­guez</td>\n",
       "      <td>28</td>\n",
       "      <td>Uruguay</td>\n",
       "      <td>75</td>\n",
       "      <td>75</td>\n",
       "      <td>Club Tijuana</td>\n",
       "      <td>Right</td>\n",
       "      <td>1</td>\n",
       "      <td>3</td>\n",
       "      <td>2</td>\n",
       "      <td>Medium/ Medium</td>\n",
       "      <td>RCM</td>\n",
       "      <td>15</td>\n",
       "      <td>5.583333</td>\n",
       "      <td>143</td>\n",
       "    </tr>\n",
       "  </tbody>\n",
       "</table>\n",
       "<p>2000 rows × 15 columns</p>\n",
       "</div>"
      ],
      "text/plain": [
       "                   Name  Age         Nationality  Overall_rating  Potential  \\\n",
       "0              L. Messi   31           Argentina              94         94   \n",
       "1     Cristiano Ronaldo   33            Portugal              94         94   \n",
       "2             Neymar Jr   26              Brazil              92         93   \n",
       "3                De Gea   27               Spain              91         93   \n",
       "4          K. De Bruyne   27             Belgium              91         92   \n",
       "...                 ...  ...                 ...             ...        ...   \n",
       "1995          R. BorrÃ©   22            Colombia              75         82   \n",
       "1996      E. ZukanoviÄ‡   31  Bosnia Herzegovina              75         75   \n",
       "1997            A. Elis   22            Honduras              75         82   \n",
       "1998      M. FernÃ¡ndez   32               Chile              75         75   \n",
       "1999      D. RodrÃ­guez   28             Uruguay              75         75   \n",
       "\n",
       "                     Club Preferred Foot  International Reputation  Weak Foot  \\\n",
       "0            FC Barcelona           Left                         5          4   \n",
       "1                Juventus          Right                         5          4   \n",
       "2     Paris Saint-Germain          Right                         5          5   \n",
       "3       Manchester United          Right                         4          3   \n",
       "4         Manchester City          Right                         4          5   \n",
       "...                   ...            ...                       ...        ...   \n",
       "1995          River Plate          Right                         1          3   \n",
       "1996                Genoa           Left                         2          3   \n",
       "1997       Houston Dynamo          Right                         1          4   \n",
       "1998          Club Necaxa          Right                         2          4   \n",
       "1999         Club Tijuana          Right                         1          3   \n",
       "\n",
       "      Skill Moves       Work Rate Position  Jersey Number    Height  Weight  \n",
       "0               4  Medium/ Medium       RF             10  5.583333     159  \n",
       "1               5       High/ Low       ST              7  6.166667     183  \n",
       "2               5    High/ Medium       LW             10  5.750000     150  \n",
       "3               1  Medium/ Medium       GK              1  6.333333     168  \n",
       "4               4      High/ High      RCM              7  5.083333     154  \n",
       "...           ...             ...      ...            ...       ...     ...  \n",
       "1995            4    High/ Medium       RS             19  5.750000     157  \n",
       "1996            2       Low/ High       CB             87  6.250000     187  \n",
       "1997            4    High/ Medium       RM             17  5.083333     170  \n",
       "1998            5  Medium/ Medium      LDM             14  5.083333     159  \n",
       "1999            2  Medium/ Medium      RCM             15  5.583333     143  \n",
       "\n",
       "[2000 rows x 15 columns]"
      ]
     },
     "execution_count": 138,
     "metadata": {},
     "output_type": "execute_result"
    }
   ],
   "source": [
    "fifa"
   ]
  },
  {
   "cell_type": "code",
   "execution_count": 6,
   "id": "0ad52d78",
   "metadata": {},
   "outputs": [
    {
     "name": "stdout",
     "output_type": "stream",
     "text": [
      "<class 'pandas.core.frame.DataFrame'>\n",
      "RangeIndex: 2000 entries, 0 to 1999\n",
      "Data columns (total 15 columns):\n",
      " #   Column                    Non-Null Count  Dtype  \n",
      "---  ------                    --------------  -----  \n",
      " 0   Name                      2000 non-null   object \n",
      " 1   Age                       2000 non-null   int64  \n",
      " 2   Nationality               2000 non-null   object \n",
      " 3   Overall_rating            2000 non-null   int64  \n",
      " 4   Potential                 2000 non-null   int64  \n",
      " 5   Club                      1981 non-null   object \n",
      " 6   Preferred Foot            2000 non-null   object \n",
      " 7   International Reputation  2000 non-null   int64  \n",
      " 8   Weak Foot                 2000 non-null   int64  \n",
      " 9   Skill Moves               2000 non-null   int64  \n",
      " 10  Work Rate                 2000 non-null   object \n",
      " 11  Position                  2000 non-null   object \n",
      " 12  Jersey Number             2000 non-null   int64  \n",
      " 13  Height                    2000 non-null   float64\n",
      " 14  Weight                    2000 non-null   int64  \n",
      "dtypes: float64(1), int64(8), object(6)\n",
      "memory usage: 234.5+ KB\n"
     ]
    }
   ],
   "source": [
    "# Checking the info of the Data \n",
    "fifa.info()\n"
   ]
  },
  {
   "cell_type": "code",
   "execution_count": 7,
   "id": "dc01b408",
   "metadata": {},
   "outputs": [
    {
     "data": {
      "text/html": [
       "<div>\n",
       "<style scoped>\n",
       "    .dataframe tbody tr th:only-of-type {\n",
       "        vertical-align: middle;\n",
       "    }\n",
       "\n",
       "    .dataframe tbody tr th {\n",
       "        vertical-align: top;\n",
       "    }\n",
       "\n",
       "    .dataframe thead th {\n",
       "        text-align: right;\n",
       "    }\n",
       "</style>\n",
       "<table border=\"1\" class=\"dataframe\">\n",
       "  <thead>\n",
       "    <tr style=\"text-align: right;\">\n",
       "      <th></th>\n",
       "      <th>Age</th>\n",
       "      <th>Overall_rating</th>\n",
       "      <th>Potential</th>\n",
       "      <th>International Reputation</th>\n",
       "      <th>Weak Foot</th>\n",
       "      <th>Skill Moves</th>\n",
       "      <th>Jersey Number</th>\n",
       "      <th>Height</th>\n",
       "      <th>Weight</th>\n",
       "    </tr>\n",
       "  </thead>\n",
       "  <tbody>\n",
       "    <tr>\n",
       "      <th>count</th>\n",
       "      <td>2000.000000</td>\n",
       "      <td>2000.000000</td>\n",
       "      <td>2000.000000</td>\n",
       "      <td>2000.000000</td>\n",
       "      <td>2000.000000</td>\n",
       "      <td>2000.000000</td>\n",
       "      <td>2000.000000</td>\n",
       "      <td>2000.000000</td>\n",
       "      <td>2000.000000</td>\n",
       "    </tr>\n",
       "    <tr>\n",
       "      <th>mean</th>\n",
       "      <td>27.231500</td>\n",
       "      <td>78.197000</td>\n",
       "      <td>80.303500</td>\n",
       "      <td>1.774500</td>\n",
       "      <td>3.204000</td>\n",
       "      <td>2.919500</td>\n",
       "      <td>15.205500</td>\n",
       "      <td>5.781042</td>\n",
       "      <td>169.478000</td>\n",
       "    </tr>\n",
       "    <tr>\n",
       "      <th>std</th>\n",
       "      <td>3.859061</td>\n",
       "      <td>3.285969</td>\n",
       "      <td>4.114104</td>\n",
       "      <td>0.811775</td>\n",
       "      <td>0.728457</td>\n",
       "      <td>0.964098</td>\n",
       "      <td>13.210508</td>\n",
       "      <td>0.443337</td>\n",
       "      <td>16.050306</td>\n",
       "    </tr>\n",
       "    <tr>\n",
       "      <th>min</th>\n",
       "      <td>17.000000</td>\n",
       "      <td>75.000000</td>\n",
       "      <td>75.000000</td>\n",
       "      <td>1.000000</td>\n",
       "      <td>1.000000</td>\n",
       "      <td>1.000000</td>\n",
       "      <td>1.000000</td>\n",
       "      <td>5.083333</td>\n",
       "      <td>123.000000</td>\n",
       "    </tr>\n",
       "    <tr>\n",
       "      <th>25%</th>\n",
       "      <td>24.000000</td>\n",
       "      <td>76.000000</td>\n",
       "      <td>77.000000</td>\n",
       "      <td>1.000000</td>\n",
       "      <td>3.000000</td>\n",
       "      <td>2.000000</td>\n",
       "      <td>7.000000</td>\n",
       "      <td>5.500000</td>\n",
       "      <td>159.000000</td>\n",
       "    </tr>\n",
       "    <tr>\n",
       "      <th>50%</th>\n",
       "      <td>27.000000</td>\n",
       "      <td>77.000000</td>\n",
       "      <td>80.000000</td>\n",
       "      <td>2.000000</td>\n",
       "      <td>3.000000</td>\n",
       "      <td>3.000000</td>\n",
       "      <td>12.000000</td>\n",
       "      <td>6.000000</td>\n",
       "      <td>170.000000</td>\n",
       "    </tr>\n",
       "    <tr>\n",
       "      <th>75%</th>\n",
       "      <td>30.000000</td>\n",
       "      <td>80.000000</td>\n",
       "      <td>83.000000</td>\n",
       "      <td>2.000000</td>\n",
       "      <td>4.000000</td>\n",
       "      <td>4.000000</td>\n",
       "      <td>20.000000</td>\n",
       "      <td>6.166667</td>\n",
       "      <td>181.000000</td>\n",
       "    </tr>\n",
       "    <tr>\n",
       "      <th>max</th>\n",
       "      <td>41.000000</td>\n",
       "      <td>94.000000</td>\n",
       "      <td>95.000000</td>\n",
       "      <td>5.000000</td>\n",
       "      <td>5.000000</td>\n",
       "      <td>5.000000</td>\n",
       "      <td>99.000000</td>\n",
       "      <td>6.583333</td>\n",
       "      <td>227.000000</td>\n",
       "    </tr>\n",
       "  </tbody>\n",
       "</table>\n",
       "</div>"
      ],
      "text/plain": [
       "               Age  Overall_rating    Potential  International Reputation  \\\n",
       "count  2000.000000     2000.000000  2000.000000               2000.000000   \n",
       "mean     27.231500       78.197000    80.303500                  1.774500   \n",
       "std       3.859061        3.285969     4.114104                  0.811775   \n",
       "min      17.000000       75.000000    75.000000                  1.000000   \n",
       "25%      24.000000       76.000000    77.000000                  1.000000   \n",
       "50%      27.000000       77.000000    80.000000                  2.000000   \n",
       "75%      30.000000       80.000000    83.000000                  2.000000   \n",
       "max      41.000000       94.000000    95.000000                  5.000000   \n",
       "\n",
       "         Weak Foot  Skill Moves  Jersey Number       Height       Weight  \n",
       "count  2000.000000  2000.000000    2000.000000  2000.000000  2000.000000  \n",
       "mean      3.204000     2.919500      15.205500     5.781042   169.478000  \n",
       "std       0.728457     0.964098      13.210508     0.443337    16.050306  \n",
       "min       1.000000     1.000000       1.000000     5.083333   123.000000  \n",
       "25%       3.000000     2.000000       7.000000     5.500000   159.000000  \n",
       "50%       3.000000     3.000000      12.000000     6.000000   170.000000  \n",
       "75%       4.000000     4.000000      20.000000     6.166667   181.000000  \n",
       "max       5.000000     5.000000      99.000000     6.583333   227.000000  "
      ]
     },
     "execution_count": 7,
     "metadata": {},
     "output_type": "execute_result"
    }
   ],
   "source": [
    "# Summary Statistics of the data ::\n",
    "fifa.describe()\n"
   ]
  },
  {
   "cell_type": "code",
   "execution_count": 9,
   "id": "1862bdc2",
   "metadata": {},
   "outputs": [
    {
     "data": {
      "text/plain": [
       "Index(['Name', 'Age', 'Nationality', 'Overall_rating', 'Potential', 'Club',\n",
       "       'Preferred Foot', 'International Reputation', 'Weak Foot',\n",
       "       'Skill Moves', 'Work Rate', 'Position', 'Jersey Number', 'Height',\n",
       "       'Weight'],\n",
       "      dtype='object')"
      ]
     },
     "execution_count": 9,
     "metadata": {},
     "output_type": "execute_result"
    }
   ],
   "source": [
    "# Columns in the data \n",
    "fifa.columns"
   ]
  },
  {
   "cell_type": "code",
   "execution_count": 18,
   "id": "4dc315cd",
   "metadata": {},
   "outputs": [
    {
     "data": {
      "text/html": [
       "<div>\n",
       "<style scoped>\n",
       "    .dataframe tbody tr th:only-of-type {\n",
       "        vertical-align: middle;\n",
       "    }\n",
       "\n",
       "    .dataframe tbody tr th {\n",
       "        vertical-align: top;\n",
       "    }\n",
       "\n",
       "    .dataframe thead th {\n",
       "        text-align: right;\n",
       "    }\n",
       "</style>\n",
       "<table border=\"1\" class=\"dataframe\">\n",
       "  <thead>\n",
       "    <tr style=\"text-align: right;\">\n",
       "      <th></th>\n",
       "      <th>Age</th>\n",
       "      <th>Overall_rating</th>\n",
       "      <th>Potential</th>\n",
       "      <th>International Reputation</th>\n",
       "      <th>Weak Foot</th>\n",
       "      <th>Skill Moves</th>\n",
       "      <th>Jersey Number</th>\n",
       "      <th>Height</th>\n",
       "      <th>Weight</th>\n",
       "    </tr>\n",
       "  </thead>\n",
       "  <tbody>\n",
       "    <tr>\n",
       "      <th>Age</th>\n",
       "      <td>1.000000</td>\n",
       "      <td>0.063348</td>\n",
       "      <td>-0.511339</td>\n",
       "      <td>0.314808</td>\n",
       "      <td>-0.060940</td>\n",
       "      <td>-0.206624</td>\n",
       "      <td>-0.039370</td>\n",
       "      <td>0.065510</td>\n",
       "      <td>0.151674</td>\n",
       "    </tr>\n",
       "    <tr>\n",
       "      <th>Overall_rating</th>\n",
       "      <td>0.063348</td>\n",
       "      <td>1.000000</td>\n",
       "      <td>0.732695</td>\n",
       "      <td>0.661603</td>\n",
       "      <td>0.103579</td>\n",
       "      <td>0.081593</td>\n",
       "      <td>-0.094865</td>\n",
       "      <td>0.041815</td>\n",
       "      <td>0.055342</td>\n",
       "    </tr>\n",
       "    <tr>\n",
       "      <th>Potential</th>\n",
       "      <td>-0.511339</td>\n",
       "      <td>0.732695</td>\n",
       "      <td>1.000000</td>\n",
       "      <td>0.327717</td>\n",
       "      <td>0.099179</td>\n",
       "      <td>0.127366</td>\n",
       "      <td>-0.037827</td>\n",
       "      <td>0.030624</td>\n",
       "      <td>-0.017228</td>\n",
       "    </tr>\n",
       "    <tr>\n",
       "      <th>International Reputation</th>\n",
       "      <td>0.314808</td>\n",
       "      <td>0.661603</td>\n",
       "      <td>0.327717</td>\n",
       "      <td>1.000000</td>\n",
       "      <td>0.105748</td>\n",
       "      <td>0.088652</td>\n",
       "      <td>-0.032622</td>\n",
       "      <td>0.041700</td>\n",
       "      <td>0.071167</td>\n",
       "    </tr>\n",
       "    <tr>\n",
       "      <th>Weak Foot</th>\n",
       "      <td>-0.060940</td>\n",
       "      <td>0.103579</td>\n",
       "      <td>0.099179</td>\n",
       "      <td>0.105748</td>\n",
       "      <td>1.000000</td>\n",
       "      <td>0.342505</td>\n",
       "      <td>0.038840</td>\n",
       "      <td>-0.187942</td>\n",
       "      <td>-0.201137</td>\n",
       "    </tr>\n",
       "    <tr>\n",
       "      <th>Skill Moves</th>\n",
       "      <td>-0.206624</td>\n",
       "      <td>0.081593</td>\n",
       "      <td>0.127366</td>\n",
       "      <td>0.088652</td>\n",
       "      <td>0.342505</td>\n",
       "      <td>1.000000</td>\n",
       "      <td>0.065322</td>\n",
       "      <td>-0.472939</td>\n",
       "      <td>-0.528310</td>\n",
       "    </tr>\n",
       "    <tr>\n",
       "      <th>Jersey Number</th>\n",
       "      <td>-0.039370</td>\n",
       "      <td>-0.094865</td>\n",
       "      <td>-0.037827</td>\n",
       "      <td>-0.032622</td>\n",
       "      <td>0.038840</td>\n",
       "      <td>0.065322</td>\n",
       "      <td>1.000000</td>\n",
       "      <td>0.005081</td>\n",
       "      <td>-0.015377</td>\n",
       "    </tr>\n",
       "    <tr>\n",
       "      <th>Height</th>\n",
       "      <td>0.065510</td>\n",
       "      <td>0.041815</td>\n",
       "      <td>0.030624</td>\n",
       "      <td>0.041700</td>\n",
       "      <td>-0.187942</td>\n",
       "      <td>-0.472939</td>\n",
       "      <td>0.005081</td>\n",
       "      <td>1.000000</td>\n",
       "      <td>0.544016</td>\n",
       "    </tr>\n",
       "    <tr>\n",
       "      <th>Weight</th>\n",
       "      <td>0.151674</td>\n",
       "      <td>0.055342</td>\n",
       "      <td>-0.017228</td>\n",
       "      <td>0.071167</td>\n",
       "      <td>-0.201137</td>\n",
       "      <td>-0.528310</td>\n",
       "      <td>-0.015377</td>\n",
       "      <td>0.544016</td>\n",
       "      <td>1.000000</td>\n",
       "    </tr>\n",
       "  </tbody>\n",
       "</table>\n",
       "</div>"
      ],
      "text/plain": [
       "                               Age  Overall_rating  Potential  \\\n",
       "Age                       1.000000        0.063348  -0.511339   \n",
       "Overall_rating            0.063348        1.000000   0.732695   \n",
       "Potential                -0.511339        0.732695   1.000000   \n",
       "International Reputation  0.314808        0.661603   0.327717   \n",
       "Weak Foot                -0.060940        0.103579   0.099179   \n",
       "Skill Moves              -0.206624        0.081593   0.127366   \n",
       "Jersey Number            -0.039370       -0.094865  -0.037827   \n",
       "Height                    0.065510        0.041815   0.030624   \n",
       "Weight                    0.151674        0.055342  -0.017228   \n",
       "\n",
       "                          International Reputation  Weak Foot  Skill Moves  \\\n",
       "Age                                       0.314808  -0.060940    -0.206624   \n",
       "Overall_rating                            0.661603   0.103579     0.081593   \n",
       "Potential                                 0.327717   0.099179     0.127366   \n",
       "International Reputation                  1.000000   0.105748     0.088652   \n",
       "Weak Foot                                 0.105748   1.000000     0.342505   \n",
       "Skill Moves                               0.088652   0.342505     1.000000   \n",
       "Jersey Number                            -0.032622   0.038840     0.065322   \n",
       "Height                                    0.041700  -0.187942    -0.472939   \n",
       "Weight                                    0.071167  -0.201137    -0.528310   \n",
       "\n",
       "                          Jersey Number    Height    Weight  \n",
       "Age                           -0.039370  0.065510  0.151674  \n",
       "Overall_rating                -0.094865  0.041815  0.055342  \n",
       "Potential                     -0.037827  0.030624 -0.017228  \n",
       "International Reputation      -0.032622  0.041700  0.071167  \n",
       "Weak Foot                      0.038840 -0.187942 -0.201137  \n",
       "Skill Moves                    0.065322 -0.472939 -0.528310  \n",
       "Jersey Number                  1.000000  0.005081 -0.015377  \n",
       "Height                         0.005081  1.000000  0.544016  \n",
       "Weight                        -0.015377  0.544016  1.000000  "
      ]
     },
     "execution_count": 18,
     "metadata": {},
     "output_type": "execute_result"
    }
   ],
   "source": [
    "# Checking correlation matrix of the Data::\n",
    "fifa.corr()"
   ]
  },
  {
   "cell_type": "code",
   "execution_count": 21,
   "id": "08e453f4",
   "metadata": {},
   "outputs": [
    {
     "data": {
      "image/png": "[encoded data removed]",
      "text/plain": [
       "<Figure size 432x288 with 2 Axes>"
      ]
     },
     "metadata": {
      "needs_background": "light"
     },
     "output_type": "display_data"
    }
   ],
   "source": [
    "sns.heatmap(fifa.corr(),cmap='YlGnBu')\n",
    "plt.show()"
   ]
  },
  {
   "cell_type": "code",
   "execution_count": null,
   "id": "f367ae00",
   "metadata": {},
   "outputs": [],
   "source": [
    "# Checking the null values in the data::"
   ]
  },
  {
   "cell_type": "code",
   "execution_count": 17,
   "id": "ebc5098b",
   "metadata": {},
   "outputs": [
    {
     "data": {
      "text/plain": [
       "Name                         0\n",
       "Age                          0\n",
       "Nationality                  0\n",
       "Overall_rating               0\n",
       "Potential                    0\n",
       "Club                        19\n",
       "Preferred Foot               0\n",
       "International Reputation     0\n",
       "Weak Foot                    0\n",
       "Skill Moves                  0\n",
       "Work Rate                    0\n",
       "Position                     0\n",
       "Jersey Number                0\n",
       "Height                       0\n",
       "Weight                       0\n",
       "dtype: int64"
      ]
     },
     "execution_count": 17,
     "metadata": {},
     "output_type": "execute_result"
    }
   ],
   "source": [
    "fifa.isnull().sum()\n",
    "# As we can see In the club column there is null values "
   ]
  },
  {
   "cell_type": "code",
   "execution_count": 23,
   "id": "1686a764",
   "metadata": {},
   "outputs": [
    {
     "data": {
      "text/html": [
       "<div>\n",
       "<style scoped>\n",
       "    .dataframe tbody tr th:only-of-type {\n",
       "        vertical-align: middle;\n",
       "    }\n",
       "\n",
       "    .dataframe tbody tr th {\n",
       "        vertical-align: top;\n",
       "    }\n",
       "\n",
       "    .dataframe thead th {\n",
       "        text-align: right;\n",
       "    }\n",
       "</style>\n",
       "<table border=\"1\" class=\"dataframe\">\n",
       "  <thead>\n",
       "    <tr style=\"text-align: right;\">\n",
       "      <th></th>\n",
       "      <th>Name</th>\n",
       "      <th>Age</th>\n",
       "      <th>Nationality</th>\n",
       "      <th>Overall_rating</th>\n",
       "      <th>Potential</th>\n",
       "      <th>Club</th>\n",
       "      <th>Preferred Foot</th>\n",
       "      <th>International Reputation</th>\n",
       "      <th>Weak Foot</th>\n",
       "      <th>Skill Moves</th>\n",
       "      <th>Work Rate</th>\n",
       "      <th>Position</th>\n",
       "      <th>Jersey Number</th>\n",
       "      <th>Height</th>\n",
       "      <th>Weight</th>\n",
       "    </tr>\n",
       "  </thead>\n",
       "  <tbody>\n",
       "    <tr>\n",
       "      <th>452</th>\n",
       "      <td>L. Paredes</td>\n",
       "      <td>24</td>\n",
       "      <td>Argentina</td>\n",
       "      <td>80</td>\n",
       "      <td>85</td>\n",
       "      <td>NaN</td>\n",
       "      <td>Right</td>\n",
       "      <td>2</td>\n",
       "      <td>4</td>\n",
       "      <td>4</td>\n",
       "      <td>Medium/ Medium</td>\n",
       "      <td>CM</td>\n",
       "      <td>5</td>\n",
       "      <td>5.083333</td>\n",
       "      <td>165</td>\n",
       "    </tr>\n",
       "    <tr>\n",
       "      <th>538</th>\n",
       "      <td>A. Granqvist</td>\n",
       "      <td>33</td>\n",
       "      <td>Sweden</td>\n",
       "      <td>80</td>\n",
       "      <td>80</td>\n",
       "      <td>NaN</td>\n",
       "      <td>Right</td>\n",
       "      <td>2</td>\n",
       "      <td>4</td>\n",
       "      <td>2</td>\n",
       "      <td>High/ Medium</td>\n",
       "      <td>LCB</td>\n",
       "      <td>4</td>\n",
       "      <td>6.333333</td>\n",
       "      <td>185</td>\n",
       "    </tr>\n",
       "    <tr>\n",
       "      <th>568</th>\n",
       "      <td>A. Lunev</td>\n",
       "      <td>26</td>\n",
       "      <td>Russia</td>\n",
       "      <td>79</td>\n",
       "      <td>81</td>\n",
       "      <td>NaN</td>\n",
       "      <td>Right</td>\n",
       "      <td>1</td>\n",
       "      <td>3</td>\n",
       "      <td>1</td>\n",
       "      <td>Medium/ Medium</td>\n",
       "      <td>GK</td>\n",
       "      <td>12</td>\n",
       "      <td>6.166667</td>\n",
       "      <td>176</td>\n",
       "    </tr>\n",
       "    <tr>\n",
       "      <th>677</th>\n",
       "      <td>I. Smolnikov</td>\n",
       "      <td>29</td>\n",
       "      <td>Russia</td>\n",
       "      <td>79</td>\n",
       "      <td>79</td>\n",
       "      <td>NaN</td>\n",
       "      <td>Right</td>\n",
       "      <td>2</td>\n",
       "      <td>3</td>\n",
       "      <td>3</td>\n",
       "      <td>High/ High</td>\n",
       "      <td>RB</td>\n",
       "      <td>2</td>\n",
       "      <td>5.083333</td>\n",
       "      <td>154</td>\n",
       "    </tr>\n",
       "    <tr>\n",
       "      <th>874</th>\n",
       "      <td>A. Dzyuba</td>\n",
       "      <td>29</td>\n",
       "      <td>Russia</td>\n",
       "      <td>78</td>\n",
       "      <td>78</td>\n",
       "      <td>NaN</td>\n",
       "      <td>Right</td>\n",
       "      <td>2</td>\n",
       "      <td>3</td>\n",
       "      <td>3</td>\n",
       "      <td>High/ Medium</td>\n",
       "      <td>ST</td>\n",
       "      <td>22</td>\n",
       "      <td>6.416667</td>\n",
       "      <td>201</td>\n",
       "    </tr>\n",
       "    <tr>\n",
       "      <th>953</th>\n",
       "      <td>LuÃ­s Neto</td>\n",
       "      <td>30</td>\n",
       "      <td>Portugal</td>\n",
       "      <td>77</td>\n",
       "      <td>77</td>\n",
       "      <td>NaN</td>\n",
       "      <td>Right</td>\n",
       "      <td>1</td>\n",
       "      <td>3</td>\n",
       "      <td>2</td>\n",
       "      <td>Medium/ Medium</td>\n",
       "      <td>CB</td>\n",
       "      <td>4</td>\n",
       "      <td>6.166667</td>\n",
       "      <td>157</td>\n",
       "    </tr>\n",
       "    <tr>\n",
       "      <th>997</th>\n",
       "      <td>D. Kuzyaev</td>\n",
       "      <td>25</td>\n",
       "      <td>Russia</td>\n",
       "      <td>77</td>\n",
       "      <td>80</td>\n",
       "      <td>NaN</td>\n",
       "      <td>Right</td>\n",
       "      <td>1</td>\n",
       "      <td>3</td>\n",
       "      <td>3</td>\n",
       "      <td>Medium/ High</td>\n",
       "      <td>RM</td>\n",
       "      <td>7</td>\n",
       "      <td>6.000000</td>\n",
       "      <td>163</td>\n",
       "    </tr>\n",
       "    <tr>\n",
       "      <th>1008</th>\n",
       "      <td>G. Sio</td>\n",
       "      <td>29</td>\n",
       "      <td>Ivory Coast</td>\n",
       "      <td>77</td>\n",
       "      <td>77</td>\n",
       "      <td>NaN</td>\n",
       "      <td>Left</td>\n",
       "      <td>2</td>\n",
       "      <td>3</td>\n",
       "      <td>3</td>\n",
       "      <td>High/ Low</td>\n",
       "      <td>ST</td>\n",
       "      <td>21</td>\n",
       "      <td>5.083333</td>\n",
       "      <td>176</td>\n",
       "    </tr>\n",
       "    <tr>\n",
       "      <th>1120</th>\n",
       "      <td>J. Villar</td>\n",
       "      <td>41</td>\n",
       "      <td>Paraguay</td>\n",
       "      <td>77</td>\n",
       "      <td>77</td>\n",
       "      <td>NaN</td>\n",
       "      <td>Right</td>\n",
       "      <td>2</td>\n",
       "      <td>3</td>\n",
       "      <td>1</td>\n",
       "      <td>Medium/ Medium</td>\n",
       "      <td>GK</td>\n",
       "      <td>1</td>\n",
       "      <td>5.083333</td>\n",
       "      <td>187</td>\n",
       "    </tr>\n",
       "    <tr>\n",
       "      <th>1271</th>\n",
       "      <td>C. Riveros</td>\n",
       "      <td>35</td>\n",
       "      <td>Paraguay</td>\n",
       "      <td>76</td>\n",
       "      <td>76</td>\n",
       "      <td>NaN</td>\n",
       "      <td>Right</td>\n",
       "      <td>1</td>\n",
       "      <td>3</td>\n",
       "      <td>3</td>\n",
       "      <td>Medium/ Medium</td>\n",
       "      <td>CAM</td>\n",
       "      <td>16</td>\n",
       "      <td>5.083333</td>\n",
       "      <td>163</td>\n",
       "    </tr>\n",
       "    <tr>\n",
       "      <th>1352</th>\n",
       "      <td>B. DzsudzsÃ¡k</td>\n",
       "      <td>31</td>\n",
       "      <td>Hungary</td>\n",
       "      <td>76</td>\n",
       "      <td>76</td>\n",
       "      <td>NaN</td>\n",
       "      <td>Left</td>\n",
       "      <td>3</td>\n",
       "      <td>4</td>\n",
       "      <td>4</td>\n",
       "      <td>Medium/ Medium</td>\n",
       "      <td>RW</td>\n",
       "      <td>7</td>\n",
       "      <td>5.083333</td>\n",
       "      <td>159</td>\n",
       "    </tr>\n",
       "    <tr>\n",
       "      <th>1602</th>\n",
       "      <td>Y. Gazinskiy</td>\n",
       "      <td>28</td>\n",
       "      <td>Russia</td>\n",
       "      <td>75</td>\n",
       "      <td>75</td>\n",
       "      <td>NaN</td>\n",
       "      <td>Left</td>\n",
       "      <td>1</td>\n",
       "      <td>4</td>\n",
       "      <td>3</td>\n",
       "      <td>Medium/ Medium</td>\n",
       "      <td>CDM</td>\n",
       "      <td>4</td>\n",
       "      <td>6.000000</td>\n",
       "      <td>165</td>\n",
       "    </tr>\n",
       "    <tr>\n",
       "      <th>1671</th>\n",
       "      <td>V. CÃ¡ceres</td>\n",
       "      <td>33</td>\n",
       "      <td>Paraguay</td>\n",
       "      <td>75</td>\n",
       "      <td>75</td>\n",
       "      <td>NaN</td>\n",
       "      <td>Right</td>\n",
       "      <td>1</td>\n",
       "      <td>3</td>\n",
       "      <td>3</td>\n",
       "      <td>Medium/ High</td>\n",
       "      <td>RDM</td>\n",
       "      <td>15</td>\n",
       "      <td>6.083333</td>\n",
       "      <td>181</td>\n",
       "    </tr>\n",
       "    <tr>\n",
       "      <th>1819</th>\n",
       "      <td>P. Tau</td>\n",
       "      <td>24</td>\n",
       "      <td>South Africa</td>\n",
       "      <td>75</td>\n",
       "      <td>81</td>\n",
       "      <td>NaN</td>\n",
       "      <td>Right</td>\n",
       "      <td>1</td>\n",
       "      <td>4</td>\n",
       "      <td>4</td>\n",
       "      <td>High/ Medium</td>\n",
       "      <td>RW</td>\n",
       "      <td>19</td>\n",
       "      <td>5.500000</td>\n",
       "      <td>143</td>\n",
       "    </tr>\n",
       "    <tr>\n",
       "      <th>1902</th>\n",
       "      <td>C. Cueva</td>\n",
       "      <td>26</td>\n",
       "      <td>Peru</td>\n",
       "      <td>75</td>\n",
       "      <td>75</td>\n",
       "      <td>NaN</td>\n",
       "      <td>Right</td>\n",
       "      <td>1</td>\n",
       "      <td>4</td>\n",
       "      <td>3</td>\n",
       "      <td>Medium/ Medium</td>\n",
       "      <td>LM</td>\n",
       "      <td>8</td>\n",
       "      <td>5.500000</td>\n",
       "      <td>134</td>\n",
       "    </tr>\n",
       "    <tr>\n",
       "      <th>1907</th>\n",
       "      <td>M. Mevlja</td>\n",
       "      <td>28</td>\n",
       "      <td>Slovenia</td>\n",
       "      <td>75</td>\n",
       "      <td>77</td>\n",
       "      <td>NaN</td>\n",
       "      <td>Right</td>\n",
       "      <td>1</td>\n",
       "      <td>3</td>\n",
       "      <td>2</td>\n",
       "      <td>Medium/ High</td>\n",
       "      <td>LCB</td>\n",
       "      <td>4</td>\n",
       "      <td>6.250000</td>\n",
       "      <td>183</td>\n",
       "    </tr>\n",
       "    <tr>\n",
       "      <th>1933</th>\n",
       "      <td>K. TraorÃ©</td>\n",
       "      <td>26</td>\n",
       "      <td>Ivory Coast</td>\n",
       "      <td>75</td>\n",
       "      <td>75</td>\n",
       "      <td>NaN</td>\n",
       "      <td>Left</td>\n",
       "      <td>1</td>\n",
       "      <td>3</td>\n",
       "      <td>4</td>\n",
       "      <td>High/ Low</td>\n",
       "      <td>CAM</td>\n",
       "      <td>8</td>\n",
       "      <td>5.083333</td>\n",
       "      <td>165</td>\n",
       "    </tr>\n",
       "    <tr>\n",
       "      <th>1936</th>\n",
       "      <td>K. Fofana</td>\n",
       "      <td>26</td>\n",
       "      <td>Ivory Coast</td>\n",
       "      <td>75</td>\n",
       "      <td>75</td>\n",
       "      <td>NaN</td>\n",
       "      <td>Right</td>\n",
       "      <td>1</td>\n",
       "      <td>3</td>\n",
       "      <td>3</td>\n",
       "      <td>Medium/ Medium</td>\n",
       "      <td>ST</td>\n",
       "      <td>22</td>\n",
       "      <td>6.166667</td>\n",
       "      <td>179</td>\n",
       "    </tr>\n",
       "    <tr>\n",
       "      <th>1964</th>\n",
       "      <td>V. Claesson</td>\n",
       "      <td>26</td>\n",
       "      <td>Sweden</td>\n",
       "      <td>75</td>\n",
       "      <td>78</td>\n",
       "      <td>NaN</td>\n",
       "      <td>Right</td>\n",
       "      <td>1</td>\n",
       "      <td>3</td>\n",
       "      <td>3</td>\n",
       "      <td>High/ High</td>\n",
       "      <td>RM</td>\n",
       "      <td>13</td>\n",
       "      <td>6.000000</td>\n",
       "      <td>174</td>\n",
       "    </tr>\n",
       "  </tbody>\n",
       "</table>\n",
       "</div>"
      ],
      "text/plain": [
       "               Name  Age   Nationality  Overall_rating  Potential Club  \\\n",
       "452      L. Paredes   24     Argentina              80         85  NaN   \n",
       "538    A. Granqvist   33        Sweden              80         80  NaN   \n",
       "568        A. Lunev   26        Russia              79         81  NaN   \n",
       "677    I. Smolnikov   29        Russia              79         79  NaN   \n",
       "874       A. Dzyuba   29        Russia              78         78  NaN   \n",
       "953      LuÃ­s Neto   30      Portugal              77         77  NaN   \n",
       "997      D. Kuzyaev   25        Russia              77         80  NaN   \n",
       "1008         G. Sio   29   Ivory Coast              77         77  NaN   \n",
       "1120      J. Villar   41      Paraguay              77         77  NaN   \n",
       "1271     C. Riveros   35      Paraguay              76         76  NaN   \n",
       "1352  B. DzsudzsÃ¡k   31       Hungary              76         76  NaN   \n",
       "1602   Y. Gazinskiy   28        Russia              75         75  NaN   \n",
       "1671    V. CÃ¡ceres   33      Paraguay              75         75  NaN   \n",
       "1819         P. Tau   24  South Africa              75         81  NaN   \n",
       "1902       C. Cueva   26          Peru              75         75  NaN   \n",
       "1907      M. Mevlja   28      Slovenia              75         77  NaN   \n",
       "1933     K. TraorÃ©   26   Ivory Coast              75         75  NaN   \n",
       "1936      K. Fofana   26   Ivory Coast              75         75  NaN   \n",
       "1964    V. Claesson   26        Sweden              75         78  NaN   \n",
       "\n",
       "     Preferred Foot  International Reputation  Weak Foot  Skill Moves  \\\n",
       "452           Right                         2          4            4   \n",
       "538           Right                         2          4            2   \n",
       "568           Right                         1          3            1   \n",
       "677           Right                         2          3            3   \n",
       "874           Right                         2          3            3   \n",
       "953           Right                         1          3            2   \n",
       "997           Right                         1          3            3   \n",
       "1008           Left                         2          3            3   \n",
       "1120          Right                         2          3            1   \n",
       "1271          Right                         1          3            3   \n",
       "1352           Left                         3          4            4   \n",
       "1602           Left                         1          4            3   \n",
       "1671          Right                         1          3            3   \n",
       "1819          Right                         1          4            4   \n",
       "1902          Right                         1          4            3   \n",
       "1907          Right                         1          3            2   \n",
       "1933           Left                         1          3            4   \n",
       "1936          Right                         1          3            3   \n",
       "1964          Right                         1          3            3   \n",
       "\n",
       "           Work Rate Position  Jersey Number    Height  Weight  \n",
       "452   Medium/ Medium       CM              5  5.083333     165  \n",
       "538     High/ Medium      LCB              4  6.333333     185  \n",
       "568   Medium/ Medium       GK             12  6.166667     176  \n",
       "677       High/ High       RB              2  5.083333     154  \n",
       "874     High/ Medium       ST             22  6.416667     201  \n",
       "953   Medium/ Medium       CB              4  6.166667     157  \n",
       "997     Medium/ High       RM              7  6.000000     163  \n",
       "1008       High/ Low       ST             21  5.083333     176  \n",
       "1120  Medium/ Medium       GK              1  5.083333     187  \n",
       "1271  Medium/ Medium      CAM             16  5.083333     163  \n",
       "1352  Medium/ Medium       RW              7  5.083333     159  \n",
       "1602  Medium/ Medium      CDM              4  6.000000     165  \n",
       "1671    Medium/ High      RDM             15  6.083333     181  \n",
       "1819    High/ Medium       RW             19  5.500000     143  \n",
       "1902  Medium/ Medium       LM              8  5.500000     134  \n",
       "1907    Medium/ High      LCB              4  6.250000     183  \n",
       "1933       High/ Low      CAM              8  5.083333     165  \n",
       "1936  Medium/ Medium       ST             22  6.166667     179  \n",
       "1964      High/ High       RM             13  6.000000     174  "
      ]
     },
     "execution_count": 23,
     "metadata": {},
     "output_type": "execute_result"
    }
   ],
   "source": [
    "fifa.loc[fifa.Club.isnull(),:]"
   ]
  },
  {
   "cell_type": "code",
   "execution_count": null,
   "id": "e95331b4",
   "metadata": {},
   "outputs": [],
   "source": [
    "# As there is no pattern and indication for the player whose club information is missing.\n",
    "# So we will fill the values with NOT KNOWN"
   ]
  },
  {
   "cell_type": "code",
   "execution_count": 24,
   "id": "56044c44",
   "metadata": {},
   "outputs": [],
   "source": [
    "fifa.loc[fifa.Club.isnull(),'Club']='Not Known'"
   ]
  },
  {
   "cell_type": "code",
   "execution_count": 26,
   "id": "6e152d97",
   "metadata": {},
   "outputs": [
    {
     "data": {
      "text/plain": [
       "Name                        0\n",
       "Age                         0\n",
       "Nationality                 0\n",
       "Overall_rating              0\n",
       "Potential                   0\n",
       "Club                        0\n",
       "Preferred Foot              0\n",
       "International Reputation    0\n",
       "Weak Foot                   0\n",
       "Skill Moves                 0\n",
       "Work Rate                   0\n",
       "Position                    0\n",
       "Jersey Number               0\n",
       "Height                      0\n",
       "Weight                      0\n",
       "dtype: int64"
      ]
     },
     "execution_count": 26,
     "metadata": {},
     "output_type": "execute_result"
    }
   ],
   "source": [
    "# Checking the missing values again\n",
    "fifa.isnull().sum()\n",
    "# hence the missing values are  treated "
   ]
  },
  {
   "cell_type": "markdown",
   "id": "cab20db7",
   "metadata": {},
   "source": [
    "# Basic Exploratory Data analysis with Visual Means"
   ]
  },
  {
   "cell_type": "code",
   "execution_count": 27,
   "id": "fbda439a",
   "metadata": {},
   "outputs": [
    {
     "data": {
      "text/html": [
       "<div>\n",
       "<style scoped>\n",
       "    .dataframe tbody tr th:only-of-type {\n",
       "        vertical-align: middle;\n",
       "    }\n",
       "\n",
       "    .dataframe tbody tr th {\n",
       "        vertical-align: top;\n",
       "    }\n",
       "\n",
       "    .dataframe thead th {\n",
       "        text-align: right;\n",
       "    }\n",
       "</style>\n",
       "<table border=\"1\" class=\"dataframe\">\n",
       "  <thead>\n",
       "    <tr style=\"text-align: right;\">\n",
       "      <th></th>\n",
       "      <th>Name</th>\n",
       "      <th>Age</th>\n",
       "      <th>Nationality</th>\n",
       "      <th>Overall_rating</th>\n",
       "      <th>Potential</th>\n",
       "      <th>Club</th>\n",
       "      <th>Preferred Foot</th>\n",
       "      <th>International Reputation</th>\n",
       "      <th>Weak Foot</th>\n",
       "      <th>Skill Moves</th>\n",
       "      <th>Work Rate</th>\n",
       "      <th>Position</th>\n",
       "      <th>Jersey Number</th>\n",
       "      <th>Height</th>\n",
       "      <th>Weight</th>\n",
       "    </tr>\n",
       "  </thead>\n",
       "  <tbody>\n",
       "    <tr>\n",
       "      <th>0</th>\n",
       "      <td>L. Messi</td>\n",
       "      <td>31</td>\n",
       "      <td>Argentina</td>\n",
       "      <td>94</td>\n",
       "      <td>94</td>\n",
       "      <td>FC Barcelona</td>\n",
       "      <td>Left</td>\n",
       "      <td>5</td>\n",
       "      <td>4</td>\n",
       "      <td>4</td>\n",
       "      <td>Medium/ Medium</td>\n",
       "      <td>RF</td>\n",
       "      <td>10</td>\n",
       "      <td>5.583333</td>\n",
       "      <td>159</td>\n",
       "    </tr>\n",
       "    <tr>\n",
       "      <th>1</th>\n",
       "      <td>Cristiano Ronaldo</td>\n",
       "      <td>33</td>\n",
       "      <td>Portugal</td>\n",
       "      <td>94</td>\n",
       "      <td>94</td>\n",
       "      <td>Juventus</td>\n",
       "      <td>Right</td>\n",
       "      <td>5</td>\n",
       "      <td>4</td>\n",
       "      <td>5</td>\n",
       "      <td>High/ Low</td>\n",
       "      <td>ST</td>\n",
       "      <td>7</td>\n",
       "      <td>6.166667</td>\n",
       "      <td>183</td>\n",
       "    </tr>\n",
       "    <tr>\n",
       "      <th>2</th>\n",
       "      <td>Neymar Jr</td>\n",
       "      <td>26</td>\n",
       "      <td>Brazil</td>\n",
       "      <td>92</td>\n",
       "      <td>93</td>\n",
       "      <td>Paris Saint-Germain</td>\n",
       "      <td>Right</td>\n",
       "      <td>5</td>\n",
       "      <td>5</td>\n",
       "      <td>5</td>\n",
       "      <td>High/ Medium</td>\n",
       "      <td>LW</td>\n",
       "      <td>10</td>\n",
       "      <td>5.750000</td>\n",
       "      <td>150</td>\n",
       "    </tr>\n",
       "    <tr>\n",
       "      <th>3</th>\n",
       "      <td>De Gea</td>\n",
       "      <td>27</td>\n",
       "      <td>Spain</td>\n",
       "      <td>91</td>\n",
       "      <td>93</td>\n",
       "      <td>Manchester United</td>\n",
       "      <td>Right</td>\n",
       "      <td>4</td>\n",
       "      <td>3</td>\n",
       "      <td>1</td>\n",
       "      <td>Medium/ Medium</td>\n",
       "      <td>GK</td>\n",
       "      <td>1</td>\n",
       "      <td>6.333333</td>\n",
       "      <td>168</td>\n",
       "    </tr>\n",
       "    <tr>\n",
       "      <th>4</th>\n",
       "      <td>K. De Bruyne</td>\n",
       "      <td>27</td>\n",
       "      <td>Belgium</td>\n",
       "      <td>91</td>\n",
       "      <td>92</td>\n",
       "      <td>Manchester City</td>\n",
       "      <td>Right</td>\n",
       "      <td>4</td>\n",
       "      <td>5</td>\n",
       "      <td>4</td>\n",
       "      <td>High/ High</td>\n",
       "      <td>RCM</td>\n",
       "      <td>7</td>\n",
       "      <td>5.083333</td>\n",
       "      <td>154</td>\n",
       "    </tr>\n",
       "  </tbody>\n",
       "</table>\n",
       "</div>"
      ],
      "text/plain": [
       "                Name  Age Nationality  Overall_rating  Potential  \\\n",
       "0           L. Messi   31   Argentina              94         94   \n",
       "1  Cristiano Ronaldo   33    Portugal              94         94   \n",
       "2          Neymar Jr   26      Brazil              92         93   \n",
       "3             De Gea   27       Spain              91         93   \n",
       "4       K. De Bruyne   27     Belgium              91         92   \n",
       "\n",
       "                  Club Preferred Foot  International Reputation  Weak Foot  \\\n",
       "0         FC Barcelona           Left                         5          4   \n",
       "1             Juventus          Right                         5          4   \n",
       "2  Paris Saint-Germain          Right                         5          5   \n",
       "3    Manchester United          Right                         4          3   \n",
       "4      Manchester City          Right                         4          5   \n",
       "\n",
       "   Skill Moves       Work Rate Position  Jersey Number    Height  Weight  \n",
       "0            4  Medium/ Medium       RF             10  5.583333     159  \n",
       "1            5       High/ Low       ST              7  6.166667     183  \n",
       "2            5    High/ Medium       LW             10  5.750000     150  \n",
       "3            1  Medium/ Medium       GK              1  6.333333     168  \n",
       "4            4      High/ High      RCM              7  5.083333     154  "
      ]
     },
     "execution_count": 27,
     "metadata": {},
     "output_type": "execute_result"
    }
   ],
   "source": [
    "fifa.head()"
   ]
  },
  {
   "cell_type": "code",
   "execution_count": 29,
   "id": "a803bee0",
   "metadata": {},
   "outputs": [],
   "source": [
    "# Dropping the Unnecessary columns from the data::\n",
    "fifa.drop(columns='Jersey Number',inplace=True)"
   ]
  },
  {
   "cell_type": "code",
   "execution_count": 31,
   "id": "d17e31bd",
   "metadata": {},
   "outputs": [],
   "source": [
    "nums=fifa.select_dtypes(include=np.number).columns"
   ]
  },
  {
   "cell_type": "code",
   "execution_count": 32,
   "id": "89fa0a48",
   "metadata": {},
   "outputs": [
    {
     "data": {
      "text/plain": [
       "Index(['Age', 'Overall_rating', 'Potential', 'International Reputation',\n",
       "       'Weak Foot', 'Skill Moves', 'Height', 'Weight'],\n",
       "      dtype='object')"
      ]
     },
     "execution_count": 32,
     "metadata": {},
     "output_type": "execute_result"
    }
   ],
   "source": [
    "nums"
   ]
  },
  {
   "cell_type": "code",
   "execution_count": 33,
   "id": "04b1b038",
   "metadata": {},
   "outputs": [],
   "source": [
    "nums=['Age', 'Overall_rating', 'Potential', 'International Reputation',\n",
    "       'Weak Foot', 'Skill Moves', 'Height', 'Weight']"
   ]
  },
  {
   "cell_type": "code",
   "execution_count": 35,
   "id": "e75e6316",
   "metadata": {},
   "outputs": [
    {
     "data": {
      "image/png": "[encoded data removed]",
      "text/plain": [
       "<Figure size 1440x720 with 8 Axes>"
      ]
     },
     "metadata": {
      "needs_background": "light"
     },
     "output_type": "display_data"
    }
   ],
   "source": [
    "# Plotting the numerical attributes \n",
    "rows=4\n",
    "cols=2\n",
    "counter=1\n",
    "plt.rcParams['figure.figsize']=[20,10]\n",
    "for i in nums:\n",
    "    plt.subplot(rows,cols,counter)\n",
    "    sns.distplot(fifa[i])\n",
    "    counter+=1\n",
    "    \n",
    "plt.tight_layout()\n",
    "plt.show()"
   ]
  },
  {
   "cell_type": "code",
   "execution_count": 36,
   "id": "ee71d463",
   "metadata": {},
   "outputs": [
    {
     "data": {
      "text/plain": [
       "Index(['Nationality', 'Club', 'Preferred Foot', 'Work Rate', 'Position'], dtype='object')"
      ]
     },
     "execution_count": 36,
     "metadata": {},
     "output_type": "execute_result"
    }
   ],
   "source": [
    "# Fecthing the numerical columns::\n",
    "fifa.select_dtypes(include=object).drop(columns='Name').columns"
   ]
  },
  {
   "cell_type": "code",
   "execution_count": 37,
   "id": "d41c091f",
   "metadata": {},
   "outputs": [],
   "source": [
    "cat=['Preferred Foot', 'Work Rate', 'Position']"
   ]
  },
  {
   "cell_type": "code",
   "execution_count": 41,
   "id": "379b115d",
   "metadata": {},
   "outputs": [
    {
     "data": {
      "image/png": "[encoded data removed]",
      "text/plain": [
       "<Figure size 1440x720 with 3 Axes>"
      ]
     },
     "metadata": {
      "needs_background": "light"
     },
     "output_type": "display_data"
    }
   ],
   "source": [
    "# Plotting the count plots in a loop for categorical attributes\n",
    "rows=2\n",
    "cols=2\n",
    "counter=1\n",
    "for i in cat:\n",
    "    plt.subplot(rows,cols,counter)\n",
    "    sns.countplot(fifa[i])\n",
    "    plt.xticks()\n",
    "    counter+=1\n",
    "    \n",
    "    \n",
    "plt.tight_layout()\n",
    "plt.show()\n",
    "    "
   ]
  },
  {
   "cell_type": "code",
   "execution_count": 42,
   "id": "2bf30ca2",
   "metadata": {},
   "outputs": [],
   "source": [
    "# Now Nationality and Club columns is left as they have a lot of unique values\n",
    "# we will plot top 15 Nationalities and Top 15 Clubs for the Players"
   ]
  },
  {
   "cell_type": "code",
   "execution_count": 45,
   "id": "79b04dd1",
   "metadata": {},
   "outputs": [
    {
     "data": {
      "image/png": "[encoded data removed]",
      "text/plain": [
       "<Figure size 1440x720 with 1 Axes>"
      ]
     },
     "metadata": {
      "needs_background": "light"
     },
     "output_type": "display_data"
    }
   ],
   "source": [
    "fifa.Nationality.value_counts().sort_values(ascending=False).head(15).plot(kind='bar')\n",
    "plt.show()"
   ]
  },
  {
   "cell_type": "code",
   "execution_count": 46,
   "id": "3808f0f2",
   "metadata": {},
   "outputs": [
    {
     "data": {
      "image/png": "[encoded data removed]",
      "text/plain": [
       "<Figure size 1440x720 with 1 Axes>"
      ]
     },
     "metadata": {
      "needs_background": "light"
     },
     "output_type": "display_data"
    }
   ],
   "source": [
    "fifa.Club.value_counts().sort_values(ascending=False).head(15).plot(kind='bar')\n",
    "plt.show()"
   ]
  },
  {
   "cell_type": "markdown",
   "id": "56fc2218",
   "metadata": {},
   "source": [
    "# Statistical Infernces::\n",
    "* Age Column seems to be normally distributed\n",
    "* Overall rating seems to be right-skewed\n",
    "* Potential seems to be right-skewed as well\n",
    "* Internationtional reputaion seems to be multimodal . It could indicate the column as discrete\n",
    "* Weak foot and skill moves seem to be multimodal and discrete as well\n",
    "* Height seems to be multimodal but not discrete\n",
    "* Weight seems to be normally distributed\n",
    "* There are more right-footed players than left footed\n",
    "* Medium/Medium seems to be the most frequent work rate\n",
    "* GK is the most common position in the data"
   ]
  },
  {
   "cell_type": "markdown",
   "id": "d3a3c407",
   "metadata": {},
   "source": [
    "# Statistical Analysis Testing::"
   ]
  },
  {
   "cell_type": "markdown",
   "id": "54fd0eaa",
   "metadata": {},
   "source": [
    "# Q1: a)\tAssuming age as population, perform the central limit theorem with sample size of 200. Find the standard error and the mean of sampling distribution. Compare the results with population mean and standard deviation. Explain in non-technical terms why the estimated standard error of a sample mean tends to decrease with an increase in sample size"
   ]
  },
  {
   "cell_type": "code",
   "execution_count": 48,
   "id": "7b9b1414",
   "metadata": {},
   "outputs": [],
   "source": [
    "# For This statistical analysis as per Central Limit Theorem \n",
    "# we assume data distribution is normal\n",
    "# Secondly the Variance is also equal \n",
    "# we will perform the test on 5% significance level"
   ]
  },
  {
   "cell_type": "code",
   "execution_count": 50,
   "id": "61e98670",
   "metadata": {},
   "outputs": [],
   "source": [
    "mew=fifa.Age.mean() # Assumed population mean \n"
   ]
  },
  {
   "cell_type": "code",
   "execution_count": 54,
   "id": "5ae0312a",
   "metadata": {},
   "outputs": [],
   "source": [
    "samp1=random.sample(sorted(fifa.Age),200)# Random sample of size 200\n",
    "n=200 # Size of sample\n"
   ]
  },
  {
   "cell_type": "code",
   "execution_count": 55,
   "id": "ec780678",
   "metadata": {},
   "outputs": [],
   "source": [
    "popsd=fifa.Age.std() # Population Standard deviation"
   ]
  },
  {
   "cell_type": "code",
   "execution_count": 56,
   "id": "c7893068",
   "metadata": {},
   "outputs": [],
   "source": [
    "se=popsd/np.sqrt(n) # Standard Error of the sample \n"
   ]
  },
  {
   "cell_type": "code",
   "execution_count": 58,
   "id": "eaede695",
   "metadata": {},
   "outputs": [],
   "source": [
    "xbar=np.mean(samp1)"
   ]
  },
  {
   "cell_type": "code",
   "execution_count": 59,
   "id": "20b6ae6c",
   "metadata": {},
   "outputs": [],
   "source": [
    "sampsd=np.std(samp1)"
   ]
  },
  {
   "cell_type": "code",
   "execution_count": 61,
   "id": "69b3ea98",
   "metadata": {},
   "outputs": [
    {
     "name": "stdout",
     "output_type": "stream",
     "text": [
      "Population Mean: 27.2315\n",
      "Sample mean: 27.12\n",
      "Population Standard Deviation: 3.8590612753574423\n",
      "Sample Standard Deviation: 3.5306656596171777\n",
      "Standard Error: 0.2728768396819654\n"
     ]
    }
   ],
   "source": [
    "print('Population Mean:',mew)\n",
    "print('Sample mean:',xbar)\n",
    "print('Population Standard Deviation:',popsd)\n",
    "print('Sample Standard Deviation:', sampsd)\n",
    "print('Standard Error:',se)"
   ]
  },
  {
   "cell_type": "markdown",
   "id": "24ab4efa",
   "metadata": {},
   "source": [
    "# According to the Central Limit Theorem::\n",
    "* Distribution of sample mean is approximately near to the Population mean.\n",
    "\n",
    "* As the sample size increases and sample size is greater than 30 is assumed to be normal."
   ]
  },
  {
   "cell_type": "code",
   "execution_count": 62,
   "id": "ee29570e",
   "metadata": {},
   "outputs": [],
   "source": [
    "# The estimated standard error of a sample mean tends to decrease with increase in sample size\n",
    "# This is because as the sample size increases the distribution of the sample becomes closer(or more identical)\n",
    "# to the distribution of the population\n",
    "# Hence we observe that the estimated standard error decreases with increase in sample size"
   ]
  },
  {
   "cell_type": "markdown",
   "id": "9f25b768",
   "metadata": {},
   "source": [
    "# b)Is there any evidence that the players overall rating is greater than 80?"
   ]
  },
  {
   "cell_type": "code",
   "execution_count": 63,
   "id": "815c4879",
   "metadata": {},
   "outputs": [],
   "source": [
    "# HO::Average overall rating=80\n",
    "# HA::Alternative Hypothesis: Average overall rating!=80\n"
   ]
  },
  {
   "cell_type": "code",
   "execution_count": 64,
   "id": "18e553cd",
   "metadata": {},
   "outputs": [
    {
     "data": {
      "text/plain": [
       "Ttest_1sampResult(statistic=-24.538460498672062, pvalue=1.885376780327322e-116)"
      ]
     },
     "execution_count": 64,
     "metadata": {},
     "output_type": "execute_result"
    }
   ],
   "source": [
    "stats.ttest_1samp(fifa.Overall_rating,80)"
   ]
  },
  {
   "cell_type": "code",
   "execution_count": 65,
   "id": "2c676835",
   "metadata": {},
   "outputs": [],
   "source": [
    "# From the above the testing\n",
    "# As we can see the P value is very small \n",
    "# Secondly the Test stats value is in negative and this means that the average is less than 80\n",
    "# So we Reject the Null Hypothesis "
   ]
  },
  {
   "cell_type": "markdown",
   "id": "17bb6c30",
   "metadata": {},
   "source": [
    "# c)Perform the statistical test to identify whether preferred foot has any impact on potential. Also, perform the graphical analysis"
   ]
  },
  {
   "cell_type": "code",
   "execution_count": 67,
   "id": "90b7ed1d",
   "metadata": {},
   "outputs": [
    {
     "data": {
      "text/html": [
       "<div>\n",
       "<style scoped>\n",
       "    .dataframe tbody tr th:only-of-type {\n",
       "        vertical-align: middle;\n",
       "    }\n",
       "\n",
       "    .dataframe tbody tr th {\n",
       "        vertical-align: top;\n",
       "    }\n",
       "\n",
       "    .dataframe thead th {\n",
       "        text-align: right;\n",
       "    }\n",
       "</style>\n",
       "<table border=\"1\" class=\"dataframe\">\n",
       "  <thead>\n",
       "    <tr style=\"text-align: right;\">\n",
       "      <th></th>\n",
       "      <th>Name</th>\n",
       "      <th>Age</th>\n",
       "      <th>Nationality</th>\n",
       "      <th>Overall_rating</th>\n",
       "      <th>Potential</th>\n",
       "      <th>Club</th>\n",
       "      <th>Preferred Foot</th>\n",
       "      <th>International Reputation</th>\n",
       "      <th>Weak Foot</th>\n",
       "      <th>Skill Moves</th>\n",
       "      <th>Work Rate</th>\n",
       "      <th>Position</th>\n",
       "      <th>Height</th>\n",
       "      <th>Weight</th>\n",
       "    </tr>\n",
       "  </thead>\n",
       "  <tbody>\n",
       "    <tr>\n",
       "      <th>0</th>\n",
       "      <td>L. Messi</td>\n",
       "      <td>31</td>\n",
       "      <td>Argentina</td>\n",
       "      <td>94</td>\n",
       "      <td>94</td>\n",
       "      <td>FC Barcelona</td>\n",
       "      <td>Left</td>\n",
       "      <td>5</td>\n",
       "      <td>4</td>\n",
       "      <td>4</td>\n",
       "      <td>Medium/ Medium</td>\n",
       "      <td>RF</td>\n",
       "      <td>5.583333</td>\n",
       "      <td>159</td>\n",
       "    </tr>\n",
       "    <tr>\n",
       "      <th>1</th>\n",
       "      <td>Cristiano Ronaldo</td>\n",
       "      <td>33</td>\n",
       "      <td>Portugal</td>\n",
       "      <td>94</td>\n",
       "      <td>94</td>\n",
       "      <td>Juventus</td>\n",
       "      <td>Right</td>\n",
       "      <td>5</td>\n",
       "      <td>4</td>\n",
       "      <td>5</td>\n",
       "      <td>High/ Low</td>\n",
       "      <td>ST</td>\n",
       "      <td>6.166667</td>\n",
       "      <td>183</td>\n",
       "    </tr>\n",
       "    <tr>\n",
       "      <th>2</th>\n",
       "      <td>Neymar Jr</td>\n",
       "      <td>26</td>\n",
       "      <td>Brazil</td>\n",
       "      <td>92</td>\n",
       "      <td>93</td>\n",
       "      <td>Paris Saint-Germain</td>\n",
       "      <td>Right</td>\n",
       "      <td>5</td>\n",
       "      <td>5</td>\n",
       "      <td>5</td>\n",
       "      <td>High/ Medium</td>\n",
       "      <td>LW</td>\n",
       "      <td>5.750000</td>\n",
       "      <td>150</td>\n",
       "    </tr>\n",
       "    <tr>\n",
       "      <th>3</th>\n",
       "      <td>De Gea</td>\n",
       "      <td>27</td>\n",
       "      <td>Spain</td>\n",
       "      <td>91</td>\n",
       "      <td>93</td>\n",
       "      <td>Manchester United</td>\n",
       "      <td>Right</td>\n",
       "      <td>4</td>\n",
       "      <td>3</td>\n",
       "      <td>1</td>\n",
       "      <td>Medium/ Medium</td>\n",
       "      <td>GK</td>\n",
       "      <td>6.333333</td>\n",
       "      <td>168</td>\n",
       "    </tr>\n",
       "    <tr>\n",
       "      <th>4</th>\n",
       "      <td>K. De Bruyne</td>\n",
       "      <td>27</td>\n",
       "      <td>Belgium</td>\n",
       "      <td>91</td>\n",
       "      <td>92</td>\n",
       "      <td>Manchester City</td>\n",
       "      <td>Right</td>\n",
       "      <td>4</td>\n",
       "      <td>5</td>\n",
       "      <td>4</td>\n",
       "      <td>High/ High</td>\n",
       "      <td>RCM</td>\n",
       "      <td>5.083333</td>\n",
       "      <td>154</td>\n",
       "    </tr>\n",
       "  </tbody>\n",
       "</table>\n",
       "</div>"
      ],
      "text/plain": [
       "                Name  Age Nationality  Overall_rating  Potential  \\\n",
       "0           L. Messi   31   Argentina              94         94   \n",
       "1  Cristiano Ronaldo   33    Portugal              94         94   \n",
       "2          Neymar Jr   26      Brazil              92         93   \n",
       "3             De Gea   27       Spain              91         93   \n",
       "4       K. De Bruyne   27     Belgium              91         92   \n",
       "\n",
       "                  Club Preferred Foot  International Reputation  Weak Foot  \\\n",
       "0         FC Barcelona           Left                         5          4   \n",
       "1             Juventus          Right                         5          4   \n",
       "2  Paris Saint-Germain          Right                         5          5   \n",
       "3    Manchester United          Right                         4          3   \n",
       "4      Manchester City          Right                         4          5   \n",
       "\n",
       "   Skill Moves       Work Rate Position    Height  Weight  \n",
       "0            4  Medium/ Medium       RF  5.583333     159  \n",
       "1            5       High/ Low       ST  6.166667     183  \n",
       "2            5    High/ Medium       LW  5.750000     150  \n",
       "3            1  Medium/ Medium       GK  6.333333     168  \n",
       "4            4      High/ High      RCM  5.083333     154  "
      ]
     },
     "execution_count": 67,
     "metadata": {},
     "output_type": "execute_result"
    }
   ],
   "source": [
    "fifa.head()"
   ]
  },
  {
   "cell_type": "code",
   "execution_count": 68,
   "id": "25907bd3",
   "metadata": {},
   "outputs": [
    {
     "data": {
      "image/png": "[encoded data removed]",
      "text/plain": [
       "<Figure size 1440x720 with 1 Axes>"
      ]
     },
     "metadata": {
      "needs_background": "light"
     },
     "output_type": "display_data"
    }
   ],
   "source": [
    "sns.boxplot(x='Preferred Foot',y='Potential',data=fifa)\n",
    "plt.show()"
   ]
  },
  {
   "cell_type": "code",
   "execution_count": 69,
   "id": "c8d44869",
   "metadata": {},
   "outputs": [],
   "source": [
    "# From the above Box Plot \n",
    "# It seems that the potential of the left foot Playesr is slightly more than the Right foot players.\n",
    "# To check this we will apply two sample T test"
   ]
  },
  {
   "cell_type": "code",
   "execution_count": 70,
   "id": "d60df9ca",
   "metadata": {},
   "outputs": [],
   "source": [
    "# HO:: Preferred Foot has no Impact on the Potential of the Players\n",
    "# HA:: Preferred Foot has a impact on the potential of the player"
   ]
  },
  {
   "cell_type": "code",
   "execution_count": 71,
   "id": "e8518750",
   "metadata": {},
   "outputs": [],
   "source": [
    "right=fifa.loc[fifa['Preferred Foot']=='Right','Potential']\n",
    "left=fifa.loc[fifa['Preferred Foot']=='Left','Potential']"
   ]
  },
  {
   "cell_type": "code",
   "execution_count": 73,
   "id": "efaebab8",
   "metadata": {},
   "outputs": [
    {
     "data": {
      "text/plain": [
       "Ttest_indResult(statistic=-1.5378037422592814, pvalue=0.12425494914461453)"
      ]
     },
     "execution_count": 73,
     "metadata": {},
     "output_type": "execute_result"
    }
   ],
   "source": [
    "stats.ttest_ind(right,left)"
   ]
  },
  {
   "cell_type": "code",
   "execution_count": 74,
   "id": "a8a12cd4",
   "metadata": {},
   "outputs": [],
   "source": [
    "# Hence we fail to reject the Null Hypothesis\n",
    "# hence our conclusion is that preferred foot has no impact on the potential of the players"
   ]
  },
  {
   "cell_type": "markdown",
   "id": "b790c38d",
   "metadata": {},
   "source": [
    "# d)Perform the statistical test to identify the relation between the overall rating and potential. [Assume both are continuous data points]."
   ]
  },
  {
   "cell_type": "code",
   "execution_count": 75,
   "id": "c7de82ea",
   "metadata": {},
   "outputs": [],
   "source": [
    "# HO:: Overall rating has no realtion with the Potential \n",
    "# HA:: Overall rating has some relation with Potential"
   ]
  },
  {
   "cell_type": "code",
   "execution_count": 140,
   "id": "bf5bf57d",
   "metadata": {},
   "outputs": [
    {
     "data": {
      "text/plain": [
       "Ttest_indResult(statistic=-17.89175319557915, pvalue=6.241604310936382e-69)"
      ]
     },
     "execution_count": 140,
     "metadata": {},
     "output_type": "execute_result"
    }
   ],
   "source": [
    "stats.ttest_ind(fifa.Overall_rating,fifa.Potential)"
   ]
  },
  {
   "cell_type": "code",
   "execution_count": 77,
   "id": "8af25843",
   "metadata": {},
   "outputs": [],
   "source": [
    "# Inf::\n",
    "# From above statistical test the  P value is extremly small than our significance level\n",
    "# Thus we reject the null Hypothesis \n",
    "# Hence the Overall rating is  related to the potential of players.\n"
   ]
  },
  {
   "cell_type": "markdown",
   "id": "a4f3264c",
   "metadata": {},
   "source": [
    "# e)Does skill move have any effect in overall rating? Perform the graphical analysis and the statistical analysis"
   ]
  },
  {
   "cell_type": "code",
   "execution_count": 78,
   "id": "94dbb19c",
   "metadata": {},
   "outputs": [
    {
     "data": {
      "text/html": [
       "<div>\n",
       "<style scoped>\n",
       "    .dataframe tbody tr th:only-of-type {\n",
       "        vertical-align: middle;\n",
       "    }\n",
       "\n",
       "    .dataframe tbody tr th {\n",
       "        vertical-align: top;\n",
       "    }\n",
       "\n",
       "    .dataframe thead th {\n",
       "        text-align: right;\n",
       "    }\n",
       "</style>\n",
       "<table border=\"1\" class=\"dataframe\">\n",
       "  <thead>\n",
       "    <tr style=\"text-align: right;\">\n",
       "      <th></th>\n",
       "      <th>Name</th>\n",
       "      <th>Age</th>\n",
       "      <th>Nationality</th>\n",
       "      <th>Overall_rating</th>\n",
       "      <th>Potential</th>\n",
       "      <th>Club</th>\n",
       "      <th>Preferred Foot</th>\n",
       "      <th>International Reputation</th>\n",
       "      <th>Weak Foot</th>\n",
       "      <th>Skill Moves</th>\n",
       "      <th>Work Rate</th>\n",
       "      <th>Position</th>\n",
       "      <th>Height</th>\n",
       "      <th>Weight</th>\n",
       "    </tr>\n",
       "  </thead>\n",
       "  <tbody>\n",
       "    <tr>\n",
       "      <th>0</th>\n",
       "      <td>L. Messi</td>\n",
       "      <td>31</td>\n",
       "      <td>Argentina</td>\n",
       "      <td>94</td>\n",
       "      <td>94</td>\n",
       "      <td>FC Barcelona</td>\n",
       "      <td>Left</td>\n",
       "      <td>5</td>\n",
       "      <td>4</td>\n",
       "      <td>4</td>\n",
       "      <td>Medium/ Medium</td>\n",
       "      <td>RF</td>\n",
       "      <td>5.583333</td>\n",
       "      <td>159</td>\n",
       "    </tr>\n",
       "  </tbody>\n",
       "</table>\n",
       "</div>"
      ],
      "text/plain": [
       "       Name  Age Nationality  Overall_rating  Potential          Club  \\\n",
       "0  L. Messi   31   Argentina              94         94  FC Barcelona   \n",
       "\n",
       "  Preferred Foot  International Reputation  Weak Foot  Skill Moves  \\\n",
       "0           Left                         5          4            4   \n",
       "\n",
       "        Work Rate Position    Height  Weight  \n",
       "0  Medium/ Medium       RF  5.583333     159  "
      ]
     },
     "execution_count": 78,
     "metadata": {},
     "output_type": "execute_result"
    }
   ],
   "source": [
    "fifa.head(1)"
   ]
  },
  {
   "cell_type": "code",
   "execution_count": 79,
   "id": "63a60e11",
   "metadata": {},
   "outputs": [
    {
     "data": {
      "image/png": "[encoded data removed]",
      "text/plain": [
       "<Figure size 1440x720 with 1 Axes>"
      ]
     },
     "metadata": {
      "needs_background": "light"
     },
     "output_type": "display_data"
    }
   ],
   "source": [
    "sns.boxplot(x='Skill Moves',y='Overall_rating',data=fifa)\n",
    "plt.show()"
   ]
  },
  {
   "cell_type": "code",
   "execution_count": 80,
   "id": "796d6612",
   "metadata": {},
   "outputs": [],
   "source": [
    "# As we can see from visual means that the player with 5 skill move have highest overall.\n",
    "# This also indicates the relation with skill and overall rating\n",
    "# To check our hypothesis we will perform the statistical test"
   ]
  },
  {
   "cell_type": "code",
   "execution_count": null,
   "id": "c33a3e69",
   "metadata": {},
   "outputs": [],
   "source": [
    "# HO:: skill moves has no relation with overall rating at all\n",
    "# HA:: Skill moves has some relation with the overall rating"
   ]
  },
  {
   "cell_type": "code",
   "execution_count": 81,
   "id": "5791aa79",
   "metadata": {},
   "outputs": [
    {
     "data": {
      "text/plain": [
       "Ttest_indResult(statistic=-983.0720466249821, pvalue=0.0)"
      ]
     },
     "execution_count": 81,
     "metadata": {},
     "output_type": "execute_result"
    }
   ],
   "source": [
    "stats.ttest_ind(fifa['Skill Moves'],fifa.Overall_rating)"
   ]
  },
  {
   "cell_type": "code",
   "execution_count": 82,
   "id": "080759b2",
   "metadata": {},
   "outputs": [],
   "source": [
    "# Hence the P value is zero and test stats is in negative \n",
    "# Thus we will reject the HO \n",
    "# therefore from test  it is cleared that skill has some relation with overall rating "
   ]
  },
  {
   "cell_type": "markdown",
   "id": "536a7058",
   "metadata": {},
   "source": [
    "# Mobile Network Dataset :\n",
    "* The given data set contains information about the internet, calls, and messages of various network."
   ]
  },
  {
   "cell_type": "code",
   "execution_count": 83,
   "id": "c6936ab4",
   "metadata": {},
   "outputs": [],
   "source": [
    "mobile=pd.read_csv('phone.csv')"
   ]
  },
  {
   "cell_type": "code",
   "execution_count": 84,
   "id": "cd89bf14",
   "metadata": {},
   "outputs": [
    {
     "data": {
      "text/html": [
       "<div>\n",
       "<style scoped>\n",
       "    .dataframe tbody tr th:only-of-type {\n",
       "        vertical-align: middle;\n",
       "    }\n",
       "\n",
       "    .dataframe tbody tr th {\n",
       "        vertical-align: top;\n",
       "    }\n",
       "\n",
       "    .dataframe thead th {\n",
       "        text-align: right;\n",
       "    }\n",
       "</style>\n",
       "<table border=\"1\" class=\"dataframe\">\n",
       "  <thead>\n",
       "    <tr style=\"text-align: right;\">\n",
       "      <th></th>\n",
       "      <th>date</th>\n",
       "      <th>duration</th>\n",
       "      <th>item</th>\n",
       "      <th>month</th>\n",
       "      <th>network</th>\n",
       "      <th>network_type</th>\n",
       "    </tr>\n",
       "  </thead>\n",
       "  <tbody>\n",
       "    <tr>\n",
       "      <th>0</th>\n",
       "      <td>15-10-14 6:58</td>\n",
       "      <td>221.321120</td>\n",
       "      <td>data</td>\n",
       "      <td>2014-11</td>\n",
       "      <td>data</td>\n",
       "      <td>data</td>\n",
       "    </tr>\n",
       "    <tr>\n",
       "      <th>1</th>\n",
       "      <td>15-10-14 6:58</td>\n",
       "      <td>81.610599</td>\n",
       "      <td>call</td>\n",
       "      <td>2014-11</td>\n",
       "      <td>Vodafone</td>\n",
       "      <td>mobile</td>\n",
       "    </tr>\n",
       "    <tr>\n",
       "      <th>2</th>\n",
       "      <td>15-10-14 14:46</td>\n",
       "      <td>143.109111</td>\n",
       "      <td>call</td>\n",
       "      <td>2014-11</td>\n",
       "      <td>Meteor</td>\n",
       "      <td>mobile</td>\n",
       "    </tr>\n",
       "    <tr>\n",
       "      <th>3</th>\n",
       "      <td>15-10-14 14:48</td>\n",
       "      <td>111.888670</td>\n",
       "      <td>call</td>\n",
       "      <td>2014-11</td>\n",
       "      <td>Tesco</td>\n",
       "      <td>mobile</td>\n",
       "    </tr>\n",
       "    <tr>\n",
       "      <th>4</th>\n",
       "      <td>15-10-14 17:27</td>\n",
       "      <td>246.695171</td>\n",
       "      <td>call</td>\n",
       "      <td>2014-11</td>\n",
       "      <td>Tesco</td>\n",
       "      <td>mobile</td>\n",
       "    </tr>\n",
       "  </tbody>\n",
       "</table>\n",
       "</div>"
      ],
      "text/plain": [
       "             date    duration  item    month   network network_type\n",
       "0   15-10-14 6:58  221.321120  data  2014-11      data         data\n",
       "1   15-10-14 6:58   81.610599  call  2014-11  Vodafone       mobile\n",
       "2  15-10-14 14:46  143.109111  call  2014-11    Meteor       mobile\n",
       "3  15-10-14 14:48  111.888670  call  2014-11     Tesco       mobile\n",
       "4  15-10-14 17:27  246.695171  call  2014-11     Tesco       mobile"
      ]
     },
     "execution_count": 84,
     "metadata": {},
     "output_type": "execute_result"
    }
   ],
   "source": [
    "# First 5 rows\n",
    "mobile.head()"
   ]
  },
  {
   "cell_type": "code",
   "execution_count": 85,
   "id": "924b5ac1",
   "metadata": {},
   "outputs": [
    {
     "name": "stdout",
     "output_type": "stream",
     "text": [
      "<class 'pandas.core.frame.DataFrame'>\n",
      "RangeIndex: 820 entries, 0 to 819\n",
      "Data columns (total 6 columns):\n",
      " #   Column        Non-Null Count  Dtype  \n",
      "---  ------        --------------  -----  \n",
      " 0   date          820 non-null    object \n",
      " 1   duration      820 non-null    float64\n",
      " 2   item          820 non-null    object \n",
      " 3   month         820 non-null    object \n",
      " 4   network       820 non-null    object \n",
      " 5   network_type  820 non-null    object \n",
      "dtypes: float64(1), object(5)\n",
      "memory usage: 38.6+ KB\n"
     ]
    }
   ],
   "source": [
    "# Info\n",
    "mobile.info()"
   ]
  },
  {
   "cell_type": "code",
   "execution_count": 86,
   "id": "e2856a8c",
   "metadata": {},
   "outputs": [
    {
     "data": {
      "text/html": [
       "<div>\n",
       "<style scoped>\n",
       "    .dataframe tbody tr th:only-of-type {\n",
       "        vertical-align: middle;\n",
       "    }\n",
       "\n",
       "    .dataframe tbody tr th {\n",
       "        vertical-align: top;\n",
       "    }\n",
       "\n",
       "    .dataframe thead th {\n",
       "        text-align: right;\n",
       "    }\n",
       "</style>\n",
       "<table border=\"1\" class=\"dataframe\">\n",
       "  <thead>\n",
       "    <tr style=\"text-align: right;\">\n",
       "      <th></th>\n",
       "      <th>duration</th>\n",
       "    </tr>\n",
       "  </thead>\n",
       "  <tbody>\n",
       "    <tr>\n",
       "      <th>count</th>\n",
       "      <td>820.000000</td>\n",
       "    </tr>\n",
       "    <tr>\n",
       "      <th>mean</th>\n",
       "      <td>144.304936</td>\n",
       "    </tr>\n",
       "    <tr>\n",
       "      <th>std</th>\n",
       "      <td>45.687777</td>\n",
       "    </tr>\n",
       "    <tr>\n",
       "      <th>min</th>\n",
       "      <td>0.993514</td>\n",
       "    </tr>\n",
       "    <tr>\n",
       "      <th>25%</th>\n",
       "      <td>112.916486</td>\n",
       "    </tr>\n",
       "    <tr>\n",
       "      <th>50%</th>\n",
       "      <td>144.179434</td>\n",
       "    </tr>\n",
       "    <tr>\n",
       "      <th>75%</th>\n",
       "      <td>175.932308</td>\n",
       "    </tr>\n",
       "    <tr>\n",
       "      <th>max</th>\n",
       "      <td>268.458090</td>\n",
       "    </tr>\n",
       "  </tbody>\n",
       "</table>\n",
       "</div>"
      ],
      "text/plain": [
       "         duration\n",
       "count  820.000000\n",
       "mean   144.304936\n",
       "std     45.687777\n",
       "min      0.993514\n",
       "25%    112.916486\n",
       "50%    144.179434\n",
       "75%    175.932308\n",
       "max    268.458090"
      ]
     },
     "execution_count": 86,
     "metadata": {},
     "output_type": "execute_result"
    }
   ],
   "source": [
    "# Summary statistics \n",
    "mobile.describe()"
   ]
  },
  {
   "cell_type": "code",
   "execution_count": 87,
   "id": "b02230b1",
   "metadata": {},
   "outputs": [
    {
     "data": {
      "text/plain": [
       "(820, 6)"
      ]
     },
     "execution_count": 87,
     "metadata": {},
     "output_type": "execute_result"
    }
   ],
   "source": [
    "# shape of Data\n",
    "mobile.shape"
   ]
  },
  {
   "cell_type": "code",
   "execution_count": 88,
   "id": "1b88ba20",
   "metadata": {},
   "outputs": [
    {
     "data": {
      "text/plain": [
       "date            0\n",
       "duration        0\n",
       "item            0\n",
       "month           0\n",
       "network         0\n",
       "network_type    0\n",
       "dtype: int64"
      ]
     },
     "execution_count": 88,
     "metadata": {},
     "output_type": "execute_result"
    }
   ],
   "source": [
    "# Checking null values in the data ::\n",
    "mobile.isnull().sum()\n",
    "# As there is no missing values in the data "
   ]
  },
  {
   "cell_type": "markdown",
   "id": "410e8e03",
   "metadata": {},
   "source": [
    "# Basic Exploratory Data Analysis"
   ]
  },
  {
   "cell_type": "code",
   "execution_count": 90,
   "id": "0885aaae",
   "metadata": {},
   "outputs": [],
   "source": [
    "# As we have check the Info of the data \n",
    "# There is only one numerical column in the data that is Duration \n",
    "# So we will check the distribution of the data "
   ]
  },
  {
   "cell_type": "code",
   "execution_count": 91,
   "id": "ccd10737",
   "metadata": {},
   "outputs": [
    {
     "data": {
      "image/png": "[encoded data removed]",
      "text/plain": [
       "<Figure size 1440x720 with 1 Axes>"
      ]
     },
     "metadata": {
      "needs_background": "light"
     },
     "output_type": "display_data"
    }
   ],
   "source": [
    "sns.distplot(mobile.duration)\n",
    "plt.show()"
   ]
  },
  {
   "cell_type": "code",
   "execution_count": 92,
   "id": "d1a089ff",
   "metadata": {},
   "outputs": [],
   "source": [
    "# Fetching the categorical columns "
   ]
  },
  {
   "cell_type": "code",
   "execution_count": 94,
   "id": "f52440b3",
   "metadata": {},
   "outputs": [],
   "source": [
    "cat=mobile.select_dtypes(include=object).columns"
   ]
  },
  {
   "cell_type": "code",
   "execution_count": 95,
   "id": "d8539115",
   "metadata": {},
   "outputs": [
    {
     "data": {
      "text/plain": [
       "Index(['date', 'item', 'month', 'network', 'network_type'], dtype='object')"
      ]
     },
     "execution_count": 95,
     "metadata": {},
     "output_type": "execute_result"
    }
   ],
   "source": [
    "cat"
   ]
  },
  {
   "cell_type": "code",
   "execution_count": 97,
   "id": "da855bb3",
   "metadata": {},
   "outputs": [],
   "source": [
    "cats=['item', 'month', 'network', 'network_type'] # Fetching usefull categorical columns"
   ]
  },
  {
   "cell_type": "code",
   "execution_count": 98,
   "id": "37e7689f",
   "metadata": {},
   "outputs": [],
   "source": [
    " # making multiple count plots using loop "
   ]
  },
  {
   "cell_type": "code",
   "execution_count": 99,
   "id": "92ea9fd5",
   "metadata": {},
   "outputs": [
    {
     "data": {
      "image/png": "[encoded data removed]",
      "text/plain": [
       "<Figure size 1440x720 with 4 Axes>"
      ]
     },
     "metadata": {
      "needs_background": "light"
     },
     "output_type": "display_data"
    }
   ],
   "source": [
    "rows=2\n",
    "cols=2\n",
    "counter=1\n",
    "for i in cats:\n",
    "    plt.subplot(rows,cols,counter)\n",
    "    sns.countplot(mobile[i])\n",
    "    plt.xticks()\n",
    "    counter+=1\n",
    "    \n",
    "plt.tight_layout()\n",
    "plt.show()"
   ]
  },
  {
   "cell_type": "markdown",
   "id": "3165aa96",
   "metadata": {},
   "source": [
    "# Infrence ::\n",
    "* The duration column seems to be normally distributed\n",
    "* The usage of calls are maximum as compared to the sms and internet\n",
    "* November 2014 is busiest time  according to the data \n",
    "* Vodafone leads in the count of usage \n",
    "* Usage of mobile is substantially more compared to data ,voicemail and landline "
   ]
  },
  {
   "cell_type": "markdown",
   "id": "9399ca3d",
   "metadata": {},
   "source": [
    "# Statistical Analysis"
   ]
  },
  {
   "cell_type": "markdown",
   "id": "44cd0475",
   "metadata": {},
   "source": [
    "# a) With 95% & 99% Confidence Interval, find the range estimate of average duration calls made by the entire network. Which of the Intervals are wider? Interpret the results"
   ]
  },
  {
   "cell_type": "code",
   "execution_count": 103,
   "id": "688705b6",
   "metadata": {},
   "outputs": [],
   "source": [
    "# For 95 % Confidence Interval\n",
    "cl=0.95 # confidence level\n",
    "alpha=1-cl # Significance level \n",
    "xbar=mobile.duration.mean() # Sample mean \n",
    "n=len(mobile.duration)  # Sample size \n",
    "s=np.std(mobile.duration) # sample standard deviation\n",
    "t_crit=stats.t.isf(alpha/2,n-1)\n",
    "se=s/np.sqrt(n) # Standard Error"
   ]
  },
  {
   "cell_type": "code",
   "execution_count": 105,
   "id": "b5dc80ea",
   "metadata": {},
   "outputs": [],
   "source": [
    "ci_95=stats.norm.interval(0.95,xbar,se) # confidence interval for 95 % confidence level"
   ]
  },
  {
   "cell_type": "code",
   "execution_count": 109,
   "id": "633d1c71",
   "metadata": {},
   "outputs": [
    {
     "name": "stdout",
     "output_type": "stream",
     "text": [
      "confidence Interval at 95 % is  (141.1797470762666, 147.4301240434043)\n"
     ]
    }
   ],
   "source": [
    "print('confidence Interval at 95 % is ',ci_95)"
   ]
  },
  {
   "cell_type": "code",
   "execution_count": 107,
   "id": "77347d78",
   "metadata": {},
   "outputs": [],
   "source": [
    "# For 99 % confidence Level :"
   ]
  },
  {
   "cell_type": "code",
   "execution_count": 108,
   "id": "e6363e4f",
   "metadata": {},
   "outputs": [],
   "source": [
    "ci_99=stats.norm.interval(0.99,xbar,se)"
   ]
  },
  {
   "cell_type": "code",
   "execution_count": 110,
   "id": "5e00cd86",
   "metadata": {},
   "outputs": [
    {
     "name": "stdout",
     "output_type": "stream",
     "text": [
      "confidence Interval at 99% is  (140.1977416835259, 148.41212943614502)\n"
     ]
    }
   ],
   "source": [
    "print('confidence Interval at 99% is ',ci_99)"
   ]
  },
  {
   "cell_type": "code",
   "execution_count": 111,
   "id": "0d08c0a2",
   "metadata": {},
   "outputs": [],
   "source": [
    "# As we can clearly see, the confidence interval for 99% confidence level is wider than the confidence interval for 95%\n",
    "# This means that as the confidence level increases, our confidence interval increases"
   ]
  },
  {
   "cell_type": "markdown",
   "id": "d738330f",
   "metadata": {},
   "source": [
    "# c) Plot the distribution of duration with respect to each network in the same graph and interpret the results from the graph"
   ]
  },
  {
   "cell_type": "code",
   "execution_count": 113,
   "id": "ce71e4c8",
   "metadata": {},
   "outputs": [
    {
     "data": {
      "image/png": "[encoded data removed]",
      "text/plain": [
       "<Figure size 1440x720 with 1 Axes>"
      ]
     },
     "metadata": {
      "needs_background": "light"
     },
     "output_type": "display_data"
    }
   ],
   "source": [
    "sns.boxplot(x='network',y='duration',data=mobile)\n",
    "plt.show()"
   ]
  },
  {
   "cell_type": "markdown",
   "id": "9f01a980",
   "metadata": {},
   "source": [
    "# d)\tPerform statistical tests to identify the relation between item and duration. Detailed explanation of relation between the classes is required."
   ]
  },
  {
   "cell_type": "code",
   "execution_count": 114,
   "id": "bbb857e4",
   "metadata": {},
   "outputs": [
    {
     "data": {
      "text/html": [
       "<div>\n",
       "<style scoped>\n",
       "    .dataframe tbody tr th:only-of-type {\n",
       "        vertical-align: middle;\n",
       "    }\n",
       "\n",
       "    .dataframe tbody tr th {\n",
       "        vertical-align: top;\n",
       "    }\n",
       "\n",
       "    .dataframe thead th {\n",
       "        text-align: right;\n",
       "    }\n",
       "</style>\n",
       "<table border=\"1\" class=\"dataframe\">\n",
       "  <thead>\n",
       "    <tr style=\"text-align: right;\">\n",
       "      <th></th>\n",
       "      <th>date</th>\n",
       "      <th>duration</th>\n",
       "      <th>item</th>\n",
       "      <th>month</th>\n",
       "      <th>network</th>\n",
       "      <th>network_type</th>\n",
       "    </tr>\n",
       "  </thead>\n",
       "  <tbody>\n",
       "    <tr>\n",
       "      <th>0</th>\n",
       "      <td>15-10-14 6:58</td>\n",
       "      <td>221.321120</td>\n",
       "      <td>data</td>\n",
       "      <td>2014-11</td>\n",
       "      <td>data</td>\n",
       "      <td>data</td>\n",
       "    </tr>\n",
       "    <tr>\n",
       "      <th>1</th>\n",
       "      <td>15-10-14 6:58</td>\n",
       "      <td>81.610599</td>\n",
       "      <td>call</td>\n",
       "      <td>2014-11</td>\n",
       "      <td>Vodafone</td>\n",
       "      <td>mobile</td>\n",
       "    </tr>\n",
       "    <tr>\n",
       "      <th>2</th>\n",
       "      <td>15-10-14 14:46</td>\n",
       "      <td>143.109111</td>\n",
       "      <td>call</td>\n",
       "      <td>2014-11</td>\n",
       "      <td>Meteor</td>\n",
       "      <td>mobile</td>\n",
       "    </tr>\n",
       "    <tr>\n",
       "      <th>3</th>\n",
       "      <td>15-10-14 14:48</td>\n",
       "      <td>111.888670</td>\n",
       "      <td>call</td>\n",
       "      <td>2014-11</td>\n",
       "      <td>Tesco</td>\n",
       "      <td>mobile</td>\n",
       "    </tr>\n",
       "    <tr>\n",
       "      <th>4</th>\n",
       "      <td>15-10-14 17:27</td>\n",
       "      <td>246.695171</td>\n",
       "      <td>call</td>\n",
       "      <td>2014-11</td>\n",
       "      <td>Tesco</td>\n",
       "      <td>mobile</td>\n",
       "    </tr>\n",
       "  </tbody>\n",
       "</table>\n",
       "</div>"
      ],
      "text/plain": [
       "             date    duration  item    month   network network_type\n",
       "0   15-10-14 6:58  221.321120  data  2014-11      data         data\n",
       "1   15-10-14 6:58   81.610599  call  2014-11  Vodafone       mobile\n",
       "2  15-10-14 14:46  143.109111  call  2014-11    Meteor       mobile\n",
       "3  15-10-14 14:48  111.888670  call  2014-11     Tesco       mobile\n",
       "4  15-10-14 17:27  246.695171  call  2014-11     Tesco       mobile"
      ]
     },
     "execution_count": 114,
     "metadata": {},
     "output_type": "execute_result"
    }
   ],
   "source": [
    "mobile.head()"
   ]
  },
  {
   "cell_type": "code",
   "execution_count": 115,
   "id": "fea4128c",
   "metadata": {},
   "outputs": [],
   "source": [
    "# Grouping the duration columns with respect to Item "
   ]
  },
  {
   "cell_type": "code",
   "execution_count": 116,
   "id": "58067f24",
   "metadata": {},
   "outputs": [
    {
     "data": {
      "text/plain": [
       "array(['data', 'call', 'sms'], dtype=object)"
      ]
     },
     "execution_count": 116,
     "metadata": {},
     "output_type": "execute_result"
    }
   ],
   "source": [
    "mobile.item.unique()"
   ]
  },
  {
   "cell_type": "code",
   "execution_count": 118,
   "id": "f4cf0622",
   "metadata": {},
   "outputs": [],
   "source": [
    "data=mobile.loc[mobile.item=='data','duration']\n",
    "call=mobile.loc[mobile.item=='call','duration']\n",
    "sms=mobile.loc[mobile.item=='sms','duration']"
   ]
  },
  {
   "cell_type": "code",
   "execution_count": 119,
   "id": "9b7ad8c6",
   "metadata": {},
   "outputs": [],
   "source": [
    "# First we will perform the Normality test that is Shapiro Wilk test:\n"
   ]
  },
  {
   "cell_type": "code",
   "execution_count": 120,
   "id": "571fdf3a",
   "metadata": {},
   "outputs": [
    {
     "data": {
      "text/plain": [
       "(ShapiroResult(statistic=0.9912641048431396, pvalue=0.4852308928966522),\n",
       " ShapiroResult(statistic=0.9973040819168091, pvalue=0.7803040742874146),\n",
       " ShapiroResult(statistic=0.9943404197692871, pvalue=0.37839275598526))"
      ]
     },
     "execution_count": 120,
     "metadata": {},
     "output_type": "execute_result"
    }
   ],
   "source": [
    "stats.shapiro(data),stats.shapiro(call),stats.shapiro(sms)"
   ]
  },
  {
   "cell_type": "code",
   "execution_count": 121,
   "id": "cf76d01a",
   "metadata": {},
   "outputs": [],
   "source": [
    "# As we can see the P value is much greater than significance level.\n",
    "# Hence as it is clearly visible that the data is normally distributed \n"
   ]
  },
  {
   "cell_type": "code",
   "execution_count": 122,
   "id": "5c325f43",
   "metadata": {},
   "outputs": [],
   "source": [
    "# Now we will perform the variance test that is Levene test\n"
   ]
  },
  {
   "cell_type": "code",
   "execution_count": 123,
   "id": "62a9280a",
   "metadata": {},
   "outputs": [
    {
     "data": {
      "text/plain": [
       "LeveneResult(statistic=3.4300976447008478, pvalue=0.03285087780533987)"
      ]
     },
     "execution_count": 123,
     "metadata": {},
     "output_type": "execute_result"
    }
   ],
   "source": [
    "stats.levene(data,call,sms)"
   ]
  },
  {
   "cell_type": "code",
   "execution_count": 124,
   "id": "21f4f3df",
   "metadata": {},
   "outputs": [],
   "source": [
    "# As it is clearly visible that the P value is less than significance level\n",
    "# Hence we cannot perform any parametric test here because second condition is not met \n",
    "# Thus we have to perform the Kruskal-wallis test \n"
   ]
  },
  {
   "cell_type": "code",
   "execution_count": 125,
   "id": "ba9869fb",
   "metadata": {},
   "outputs": [],
   "source": [
    "# HO:: Item has no impact on the duration \n",
    "# HA:: Item has some impact on the duration "
   ]
  },
  {
   "cell_type": "code",
   "execution_count": 127,
   "id": "f675a482",
   "metadata": {},
   "outputs": [
    {
     "data": {
      "text/plain": [
       "KruskalResult(statistic=3.5659414348706377, pvalue=0.16813791437741693)"
      ]
     },
     "execution_count": 127,
     "metadata": {},
     "output_type": "execute_result"
    }
   ],
   "source": [
    "stats.kruskal(data,call,sms)"
   ]
  },
  {
   "cell_type": "code",
   "execution_count": 128,
   "id": "507441fc",
   "metadata": {},
   "outputs": [],
   "source": [
    "# As per the test results the P value is greater than the significance level.\n",
    "# Therefore we fail to reject the null hypothesis \n",
    "# Hence there is no relation between Item and duration "
   ]
  },
  {
   "cell_type": "markdown",
   "id": "d69761a9",
   "metadata": {},
   "source": [
    "# e) Perform statistical tests to identify the relation between network and network_type."
   ]
  },
  {
   "cell_type": "code",
   "execution_count": 129,
   "id": "232edd4b",
   "metadata": {},
   "outputs": [
    {
     "data": {
      "text/html": [
       "<div>\n",
       "<style scoped>\n",
       "    .dataframe tbody tr th:only-of-type {\n",
       "        vertical-align: middle;\n",
       "    }\n",
       "\n",
       "    .dataframe tbody tr th {\n",
       "        vertical-align: top;\n",
       "    }\n",
       "\n",
       "    .dataframe thead th {\n",
       "        text-align: right;\n",
       "    }\n",
       "</style>\n",
       "<table border=\"1\" class=\"dataframe\">\n",
       "  <thead>\n",
       "    <tr style=\"text-align: right;\">\n",
       "      <th></th>\n",
       "      <th>date</th>\n",
       "      <th>duration</th>\n",
       "      <th>item</th>\n",
       "      <th>month</th>\n",
       "      <th>network</th>\n",
       "      <th>network_type</th>\n",
       "    </tr>\n",
       "  </thead>\n",
       "  <tbody>\n",
       "    <tr>\n",
       "      <th>0</th>\n",
       "      <td>15-10-14 6:58</td>\n",
       "      <td>221.321120</td>\n",
       "      <td>data</td>\n",
       "      <td>2014-11</td>\n",
       "      <td>data</td>\n",
       "      <td>data</td>\n",
       "    </tr>\n",
       "    <tr>\n",
       "      <th>1</th>\n",
       "      <td>15-10-14 6:58</td>\n",
       "      <td>81.610599</td>\n",
       "      <td>call</td>\n",
       "      <td>2014-11</td>\n",
       "      <td>Vodafone</td>\n",
       "      <td>mobile</td>\n",
       "    </tr>\n",
       "    <tr>\n",
       "      <th>2</th>\n",
       "      <td>15-10-14 14:46</td>\n",
       "      <td>143.109111</td>\n",
       "      <td>call</td>\n",
       "      <td>2014-11</td>\n",
       "      <td>Meteor</td>\n",
       "      <td>mobile</td>\n",
       "    </tr>\n",
       "    <tr>\n",
       "      <th>3</th>\n",
       "      <td>15-10-14 14:48</td>\n",
       "      <td>111.888670</td>\n",
       "      <td>call</td>\n",
       "      <td>2014-11</td>\n",
       "      <td>Tesco</td>\n",
       "      <td>mobile</td>\n",
       "    </tr>\n",
       "    <tr>\n",
       "      <th>4</th>\n",
       "      <td>15-10-14 17:27</td>\n",
       "      <td>246.695171</td>\n",
       "      <td>call</td>\n",
       "      <td>2014-11</td>\n",
       "      <td>Tesco</td>\n",
       "      <td>mobile</td>\n",
       "    </tr>\n",
       "    <tr>\n",
       "      <th>...</th>\n",
       "      <td>...</td>\n",
       "      <td>...</td>\n",
       "      <td>...</td>\n",
       "      <td>...</td>\n",
       "      <td>...</td>\n",
       "      <td>...</td>\n",
       "    </tr>\n",
       "    <tr>\n",
       "      <th>815</th>\n",
       "      <td>10-03-15 6:58</td>\n",
       "      <td>185.328156</td>\n",
       "      <td>data</td>\n",
       "      <td>2015-03</td>\n",
       "      <td>data</td>\n",
       "      <td>data</td>\n",
       "    </tr>\n",
       "    <tr>\n",
       "      <th>816</th>\n",
       "      <td>11-03-15 6:58</td>\n",
       "      <td>89.819383</td>\n",
       "      <td>data</td>\n",
       "      <td>2015-03</td>\n",
       "      <td>data</td>\n",
       "      <td>data</td>\n",
       "    </tr>\n",
       "    <tr>\n",
       "      <th>817</th>\n",
       "      <td>12-03-15 6:58</td>\n",
       "      <td>117.604998</td>\n",
       "      <td>data</td>\n",
       "      <td>2015-03</td>\n",
       "      <td>data</td>\n",
       "      <td>data</td>\n",
       "    </tr>\n",
       "    <tr>\n",
       "      <th>818</th>\n",
       "      <td>13-03-15 0:39</td>\n",
       "      <td>77.834006</td>\n",
       "      <td>sms</td>\n",
       "      <td>2015-03</td>\n",
       "      <td>Vodafone</td>\n",
       "      <td>mobile</td>\n",
       "    </tr>\n",
       "    <tr>\n",
       "      <th>819</th>\n",
       "      <td>13-03-15 6:58</td>\n",
       "      <td>146.000584</td>\n",
       "      <td>data</td>\n",
       "      <td>2015-03</td>\n",
       "      <td>data</td>\n",
       "      <td>data</td>\n",
       "    </tr>\n",
       "  </tbody>\n",
       "</table>\n",
       "<p>820 rows × 6 columns</p>\n",
       "</div>"
      ],
      "text/plain": [
       "               date    duration  item    month   network network_type\n",
       "0     15-10-14 6:58  221.321120  data  2014-11      data         data\n",
       "1     15-10-14 6:58   81.610599  call  2014-11  Vodafone       mobile\n",
       "2    15-10-14 14:46  143.109111  call  2014-11    Meteor       mobile\n",
       "3    15-10-14 14:48  111.888670  call  2014-11     Tesco       mobile\n",
       "4    15-10-14 17:27  246.695171  call  2014-11     Tesco       mobile\n",
       "..              ...         ...   ...      ...       ...          ...\n",
       "815   10-03-15 6:58  185.328156  data  2015-03      data         data\n",
       "816   11-03-15 6:58   89.819383  data  2015-03      data         data\n",
       "817   12-03-15 6:58  117.604998  data  2015-03      data         data\n",
       "818   13-03-15 0:39   77.834006   sms  2015-03  Vodafone       mobile\n",
       "819   13-03-15 6:58  146.000584  data  2015-03      data         data\n",
       "\n",
       "[820 rows x 6 columns]"
      ]
     },
     "execution_count": 129,
     "metadata": {},
     "output_type": "execute_result"
    }
   ],
   "source": [
    "mobile"
   ]
  },
  {
   "cell_type": "code",
   "execution_count": 130,
   "id": "c7a5d082",
   "metadata": {},
   "outputs": [],
   "source": [
    "# As both the columns are categorical so we will perform Chisq test\n",
    "# for that we need to make the contingency table "
   ]
  },
  {
   "cell_type": "code",
   "execution_count": 131,
   "id": "e91f38a2",
   "metadata": {},
   "outputs": [],
   "source": [
    "# Ho: network and network_type has no relation in between \n",
    "# HA: network and network type has some realtion in between \n"
   ]
  },
  {
   "cell_type": "code",
   "execution_count": 132,
   "id": "1b7cad94",
   "metadata": {},
   "outputs": [],
   "source": [
    "tbl=pd.crosstab(mobile.network,mobile.network_type)"
   ]
  },
  {
   "cell_type": "code",
   "execution_count": 133,
   "id": "fa132699",
   "metadata": {},
   "outputs": [],
   "source": [
    "test_statistics,pvalue,dof,exp=stats.chi2_contingency(tbl)"
   ]
  },
  {
   "cell_type": "code",
   "execution_count": 134,
   "id": "baea7233",
   "metadata": {},
   "outputs": [
    {
     "name": "stdout",
     "output_type": "stream",
     "text": [
      "2460.0 0.0\n"
     ]
    }
   ],
   "source": [
    "print(test_statistics,pvalue)"
   ]
  },
  {
   "cell_type": "code",
   "execution_count": 135,
   "id": "063ac040",
   "metadata": {},
   "outputs": [],
   "source": [
    "# As we can see the P value is 0 \n",
    "# Therfore we have rejected our null hypothesis \n",
    "# we conclude that tnetwork and network type has some relation"
   ]
  },
  {
   "cell_type": "markdown",
   "id": "1e6a5520",
   "metadata": {},
   "source": [
    "# THE END"
   ]
  }
 ],
 "metadata": {
  "kernelspec": {
   "display_name": "Python 3 (ipykernel)",
   "language": "python",
   "name": "python3"
  },
  "language_info": {
   "codemirror_mode": {
    "name": "ipython",
    "version": 3
   },
   "file_extension": ".py",
   "mimetype": "text/x-python",
   "name": "python",
   "nbconvert_exporter": "python",
   "pygments_lexer": "ipython3",
   "version": "3.9.7"
  }
 },
 "nbformat": 4,
 "nbformat_minor": 5
}
